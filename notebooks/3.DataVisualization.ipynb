{
 "cells": [
  {
   "cell_type": "code",
   "execution_count": 1,
   "id": "959a6a79",
   "metadata": {},
   "outputs": [],
   "source": [
    "import pandas as pd\n",
    "import numpy as np\n",
    "import matplotlib.pyplot as plt\n",
    "import seaborn as sns"
   ]
  },
  {
   "cell_type": "code",
   "execution_count": 2,
   "id": "94733df5",
   "metadata": {},
   "outputs": [
    {
     "data": {
      "application/vnd.microsoft.datawrangler.viewer.v0+json": {
       "columns": [
        {
         "name": "index",
         "rawType": "int64",
         "type": "integer"
        },
        {
         "name": "AMT_ANNUITY",
         "rawType": "float64",
         "type": "float"
        },
        {
         "name": "AMT_CREDIT",
         "rawType": "float64",
         "type": "float"
        },
        {
         "name": "AMT_GOODS_PRICE",
         "rawType": "float64",
         "type": "float"
        },
        {
         "name": "AMT_INCOME_TOTAL",
         "rawType": "float64",
         "type": "float"
        },
        {
         "name": "AMT_REQ_CREDIT_BUREAU_DAY",
         "rawType": "float64",
         "type": "float"
        },
        {
         "name": "AMT_REQ_CREDIT_BUREAU_HOUR",
         "rawType": "float64",
         "type": "float"
        },
        {
         "name": "AMT_REQ_CREDIT_BUREAU_MON",
         "rawType": "float64",
         "type": "float"
        },
        {
         "name": "AMT_REQ_CREDIT_BUREAU_QRT",
         "rawType": "float64",
         "type": "float"
        },
        {
         "name": "AMT_REQ_CREDIT_BUREAU_WEEK",
         "rawType": "float64",
         "type": "float"
        },
        {
         "name": "AMT_REQ_CREDIT_BUREAU_YEAR",
         "rawType": "float64",
         "type": "float"
        },
        {
         "name": "CNT_CHILDREN",
         "rawType": "int64",
         "type": "integer"
        },
        {
         "name": "CNT_FAM_MEMBERS",
         "rawType": "float64",
         "type": "float"
        },
        {
         "name": "CODE_GENDER",
         "rawType": "object",
         "type": "string"
        },
        {
         "name": "DAYS_BIRTH",
         "rawType": "int64",
         "type": "integer"
        },
        {
         "name": "DAYS_EMPLOYED",
         "rawType": "int64",
         "type": "integer"
        },
        {
         "name": "DAYS_ID_PUBLISH",
         "rawType": "int64",
         "type": "integer"
        },
        {
         "name": "DAYS_LAST_PHONE_CHANGE",
         "rawType": "float64",
         "type": "float"
        },
        {
         "name": "DAYS_REGISTRATION",
         "rawType": "float64",
         "type": "float"
        },
        {
         "name": "DEF_30_CNT_SOCIAL_CIRCLE",
         "rawType": "float64",
         "type": "float"
        },
        {
         "name": "DEF_60_CNT_SOCIAL_CIRCLE",
         "rawType": "float64",
         "type": "float"
        },
        {
         "name": "EMERGENCYSTATE_MODE",
         "rawType": "object",
         "type": "string"
        },
        {
         "name": "EXT_SOURCE_1",
         "rawType": "float64",
         "type": "float"
        },
        {
         "name": "EXT_SOURCE_2",
         "rawType": "float64",
         "type": "float"
        },
        {
         "name": "EXT_SOURCE_3",
         "rawType": "float64",
         "type": "float"
        },
        {
         "name": "FLAG_CONT_MOBILE",
         "rawType": "int64",
         "type": "integer"
        },
        {
         "name": "FLAG_DOCUMENT_10",
         "rawType": "int64",
         "type": "integer"
        },
        {
         "name": "FLAG_DOCUMENT_11",
         "rawType": "int64",
         "type": "integer"
        },
        {
         "name": "FLAG_DOCUMENT_12",
         "rawType": "int64",
         "type": "integer"
        },
        {
         "name": "FLAG_DOCUMENT_13",
         "rawType": "int64",
         "type": "integer"
        },
        {
         "name": "FLAG_DOCUMENT_14",
         "rawType": "int64",
         "type": "integer"
        },
        {
         "name": "FLAG_DOCUMENT_15",
         "rawType": "int64",
         "type": "integer"
        },
        {
         "name": "FLAG_DOCUMENT_16",
         "rawType": "int64",
         "type": "integer"
        },
        {
         "name": "FLAG_DOCUMENT_17",
         "rawType": "int64",
         "type": "integer"
        },
        {
         "name": "FLAG_DOCUMENT_18",
         "rawType": "int64",
         "type": "integer"
        },
        {
         "name": "FLAG_DOCUMENT_19",
         "rawType": "int64",
         "type": "integer"
        },
        {
         "name": "FLAG_DOCUMENT_2",
         "rawType": "int64",
         "type": "integer"
        },
        {
         "name": "FLAG_DOCUMENT_20",
         "rawType": "int64",
         "type": "integer"
        },
        {
         "name": "FLAG_DOCUMENT_21",
         "rawType": "int64",
         "type": "integer"
        },
        {
         "name": "FLAG_DOCUMENT_3",
         "rawType": "int64",
         "type": "integer"
        },
        {
         "name": "FLAG_DOCUMENT_4",
         "rawType": "int64",
         "type": "integer"
        },
        {
         "name": "FLAG_DOCUMENT_5",
         "rawType": "int64",
         "type": "integer"
        },
        {
         "name": "FLAG_DOCUMENT_6",
         "rawType": "int64",
         "type": "integer"
        },
        {
         "name": "FLAG_DOCUMENT_7",
         "rawType": "int64",
         "type": "integer"
        },
        {
         "name": "FLAG_DOCUMENT_8",
         "rawType": "int64",
         "type": "integer"
        },
        {
         "name": "FLAG_DOCUMENT_9",
         "rawType": "int64",
         "type": "integer"
        },
        {
         "name": "FLAG_EMAIL",
         "rawType": "int64",
         "type": "integer"
        },
        {
         "name": "FLAG_EMP_PHONE",
         "rawType": "int64",
         "type": "integer"
        },
        {
         "name": "FLAG_MOBIL",
         "rawType": "int64",
         "type": "integer"
        },
        {
         "name": "FLAG_OWN_CAR",
         "rawType": "object",
         "type": "string"
        },
        {
         "name": "FLAG_OWN_REALTY",
         "rawType": "object",
         "type": "string"
        },
        {
         "name": "FLAG_PHONE",
         "rawType": "int64",
         "type": "integer"
        },
        {
         "name": "FLAG_WORK_PHONE",
         "rawType": "int64",
         "type": "integer"
        },
        {
         "name": "HOUR_APPR_PROCESS_START",
         "rawType": "int64",
         "type": "integer"
        },
        {
         "name": "LIVE_CITY_NOT_WORK_CITY",
         "rawType": "int64",
         "type": "integer"
        },
        {
         "name": "LIVE_REGION_NOT_WORK_REGION",
         "rawType": "int64",
         "type": "integer"
        },
        {
         "name": "NAME_CONTRACT_TYPE",
         "rawType": "object",
         "type": "string"
        },
        {
         "name": "NAME_EDUCATION_TYPE",
         "rawType": "object",
         "type": "string"
        },
        {
         "name": "NAME_FAMILY_STATUS",
         "rawType": "object",
         "type": "string"
        },
        {
         "name": "NAME_HOUSING_TYPE",
         "rawType": "object",
         "type": "string"
        },
        {
         "name": "NAME_INCOME_TYPE",
         "rawType": "object",
         "type": "string"
        },
        {
         "name": "NAME_TYPE_SUITE",
         "rawType": "object",
         "type": "string"
        },
        {
         "name": "OBS_30_CNT_SOCIAL_CIRCLE",
         "rawType": "float64",
         "type": "float"
        },
        {
         "name": "OBS_60_CNT_SOCIAL_CIRCLE",
         "rawType": "float64",
         "type": "float"
        },
        {
         "name": "OCCUPATION_TYPE",
         "rawType": "object",
         "type": "string"
        },
        {
         "name": "REGION_POPULATION_RELATIVE",
         "rawType": "float64",
         "type": "float"
        },
        {
         "name": "REGION_RATING_CLIENT",
         "rawType": "int64",
         "type": "integer"
        },
        {
         "name": "REGION_RATING_CLIENT_W_CITY",
         "rawType": "int64",
         "type": "integer"
        },
        {
         "name": "REG_CITY_NOT_LIVE_CITY",
         "rawType": "int64",
         "type": "integer"
        },
        {
         "name": "REG_CITY_NOT_WORK_CITY",
         "rawType": "int64",
         "type": "integer"
        },
        {
         "name": "REG_REGION_NOT_LIVE_REGION",
         "rawType": "int64",
         "type": "integer"
        },
        {
         "name": "REG_REGION_NOT_WORK_REGION",
         "rawType": "int64",
         "type": "integer"
        },
        {
         "name": "TARGET",
         "rawType": "int64",
         "type": "integer"
        },
        {
         "name": "WEEKDAY_APPR_PROCESS_START",
         "rawType": "object",
         "type": "string"
        }
       ],
       "ref": "8fd0b18e-08fc-4672-a218-1047c3b1ed07",
       "rows": [
        [
         "0",
         "24700.5",
         "406597.5",
         "351000.0",
         "202500.0",
         "0.0",
         "0.0",
         "0.0",
         "0.0",
         "0.0",
         "1.0",
         "0",
         "1.0",
         "M",
         "-9461",
         "-637",
         "-2120",
         "-1134.0",
         "-3648.0",
         "2.0",
         "2.0",
         "No",
         "0.0830369673913225",
         "0.2629485927471776",
         "0.1393757800997895",
         "1",
         "0",
         "0",
         "0",
         "0",
         "0",
         "0",
         "0",
         "0",
         "0",
         "0",
         "0",
         "0",
         "0",
         "1",
         "0",
         "0",
         "0",
         "0",
         "0",
         "0",
         "0",
         "1",
         "1",
         "N",
         "Y",
         "1",
         "0",
         "10",
         "0",
         "0",
         "Cash loans",
         "Secondary / secondary special",
         "Single / not married",
         "House / apartment",
         "Working",
         "Unaccompanied",
         "2.0",
         "2.0",
         "Laborers",
         "0.018801",
         "2",
         "2",
         "0",
         "0",
         "0",
         "0",
         "1",
         "WEDNESDAY"
        ],
        [
         "1",
         "35698.5",
         "1293502.5",
         "1129500.0",
         "270000.0",
         "0.0",
         "0.0",
         "0.0",
         "0.0",
         "0.0",
         "0.0",
         "0",
         "2.0",
         "F",
         "-16765",
         "-1188",
         "-291",
         "-828.0",
         "-1186.0",
         "0.0",
         "0.0",
         "No",
         "0.3112673113812225",
         "0.6222457752555098",
         "0.5108529061799658",
         "1",
         "0",
         "0",
         "0",
         "0",
         "0",
         "0",
         "0",
         "0",
         "0",
         "0",
         "0",
         "0",
         "0",
         "1",
         "0",
         "0",
         "0",
         "0",
         "0",
         "0",
         "0",
         "1",
         "1",
         "N",
         "N",
         "1",
         "0",
         "11",
         "0",
         "0",
         "Cash loans",
         "Higher education",
         "Married",
         "House / apartment",
         "State servant",
         "Family",
         "1.0",
         "1.0",
         "Core staff",
         "0.0035409999999999",
         "1",
         "1",
         "0",
         "0",
         "0",
         "0",
         "0",
         "MONDAY"
        ],
        [
         "2",
         "6750.0",
         "135000.0",
         "135000.0",
         "67500.0",
         "0.0",
         "0.0",
         "0.0",
         "0.0",
         "0.0",
         "0.0",
         "0",
         "1.0",
         "M",
         "-19046",
         "-225",
         "-2531",
         "-815.0",
         "-4260.0",
         "0.0",
         "0.0",
         "No",
         "0.5021298056566625",
         "0.5559120833904428",
         "0.7295666907060153",
         "1",
         "0",
         "0",
         "0",
         "0",
         "0",
         "0",
         "0",
         "0",
         "0",
         "0",
         "0",
         "0",
         "0",
         "0",
         "0",
         "0",
         "0",
         "0",
         "0",
         "0",
         "0",
         "1",
         "1",
         "Y",
         "Y",
         "1",
         "1",
         "9",
         "0",
         "0",
         "Revolving loans",
         "Secondary / secondary special",
         "Single / not married",
         "House / apartment",
         "Working",
         "Unaccompanied",
         "0.0",
         "0.0",
         "Laborers",
         "0.010032",
         "2",
         "2",
         "0",
         "0",
         "0",
         "0",
         "0",
         "MONDAY"
        ],
        [
         "3",
         "29686.5",
         "312682.5",
         "297000.0",
         "135000.0",
         "0.0",
         "0.0",
         "0.0",
         "0.0",
         "0.0",
         "0.0",
         "0",
         "2.0",
         "F",
         "-19005",
         "-3039",
         "-2437",
         "-617.0",
         "-9833.0",
         "0.0",
         "0.0",
         "No",
         "0.5021298056566625",
         "0.6504416904014653",
         "0.5108529061799658",
         "1",
         "0",
         "0",
         "0",
         "0",
         "0",
         "0",
         "0",
         "0",
         "0",
         "0",
         "0",
         "0",
         "0",
         "1",
         "0",
         "0",
         "0",
         "0",
         "0",
         "0",
         "0",
         "1",
         "1",
         "N",
         "Y",
         "0",
         "0",
         "17",
         "0",
         "0",
         "Cash loans",
         "Secondary / secondary special",
         "Civil marriage",
         "House / apartment",
         "Working",
         "Unaccompanied",
         "2.0",
         "2.0",
         "Laborers",
         "0.008019",
         "2",
         "2",
         "0",
         "0",
         "0",
         "0",
         "0",
         "WEDNESDAY"
        ],
        [
         "4",
         "21865.5",
         "513000.0",
         "513000.0",
         "121500.0",
         "0.0",
         "0.0",
         "0.0",
         "0.0",
         "0.0",
         "0.0",
         "0",
         "1.0",
         "M",
         "-19932",
         "-3038",
         "-3458",
         "-1106.0",
         "-4311.0",
         "0.0",
         "0.0",
         "No",
         "0.5021298056566625",
         "0.3227382869704046",
         "0.5108529061799658",
         "1",
         "0",
         "0",
         "0",
         "0",
         "0",
         "0",
         "0",
         "0",
         "0",
         "0",
         "0",
         "0",
         "0",
         "0",
         "0",
         "0",
         "0",
         "0",
         "1",
         "0",
         "0",
         "1",
         "1",
         "N",
         "Y",
         "0",
         "0",
         "11",
         "1",
         "0",
         "Cash loans",
         "Secondary / secondary special",
         "Single / not married",
         "House / apartment",
         "Working",
         "Unaccompanied",
         "0.0",
         "0.0",
         "Core staff",
         "0.028663",
         "2",
         "2",
         "0",
         "1",
         "0",
         "0",
         "0",
         "THURSDAY"
        ]
       ],
       "shape": {
        "columns": 73,
        "rows": 5
       }
      },
      "text/html": [
       "<div>\n",
       "<style scoped>\n",
       "    .dataframe tbody tr th:only-of-type {\n",
       "        vertical-align: middle;\n",
       "    }\n",
       "\n",
       "    .dataframe tbody tr th {\n",
       "        vertical-align: top;\n",
       "    }\n",
       "\n",
       "    .dataframe thead th {\n",
       "        text-align: right;\n",
       "    }\n",
       "</style>\n",
       "<table border=\"1\" class=\"dataframe\">\n",
       "  <thead>\n",
       "    <tr style=\"text-align: right;\">\n",
       "      <th></th>\n",
       "      <th>AMT_ANNUITY</th>\n",
       "      <th>AMT_CREDIT</th>\n",
       "      <th>AMT_GOODS_PRICE</th>\n",
       "      <th>AMT_INCOME_TOTAL</th>\n",
       "      <th>AMT_REQ_CREDIT_BUREAU_DAY</th>\n",
       "      <th>AMT_REQ_CREDIT_BUREAU_HOUR</th>\n",
       "      <th>AMT_REQ_CREDIT_BUREAU_MON</th>\n",
       "      <th>AMT_REQ_CREDIT_BUREAU_QRT</th>\n",
       "      <th>AMT_REQ_CREDIT_BUREAU_WEEK</th>\n",
       "      <th>AMT_REQ_CREDIT_BUREAU_YEAR</th>\n",
       "      <th>...</th>\n",
       "      <th>OCCUPATION_TYPE</th>\n",
       "      <th>REGION_POPULATION_RELATIVE</th>\n",
       "      <th>REGION_RATING_CLIENT</th>\n",
       "      <th>REGION_RATING_CLIENT_W_CITY</th>\n",
       "      <th>REG_CITY_NOT_LIVE_CITY</th>\n",
       "      <th>REG_CITY_NOT_WORK_CITY</th>\n",
       "      <th>REG_REGION_NOT_LIVE_REGION</th>\n",
       "      <th>REG_REGION_NOT_WORK_REGION</th>\n",
       "      <th>TARGET</th>\n",
       "      <th>WEEKDAY_APPR_PROCESS_START</th>\n",
       "    </tr>\n",
       "  </thead>\n",
       "  <tbody>\n",
       "    <tr>\n",
       "      <th>0</th>\n",
       "      <td>24700.5</td>\n",
       "      <td>406597.5</td>\n",
       "      <td>351000.0</td>\n",
       "      <td>202500.0</td>\n",
       "      <td>0.0</td>\n",
       "      <td>0.0</td>\n",
       "      <td>0.0</td>\n",
       "      <td>0.0</td>\n",
       "      <td>0.0</td>\n",
       "      <td>1.0</td>\n",
       "      <td>...</td>\n",
       "      <td>Laborers</td>\n",
       "      <td>0.018801</td>\n",
       "      <td>2</td>\n",
       "      <td>2</td>\n",
       "      <td>0</td>\n",
       "      <td>0</td>\n",
       "      <td>0</td>\n",
       "      <td>0</td>\n",
       "      <td>1</td>\n",
       "      <td>WEDNESDAY</td>\n",
       "    </tr>\n",
       "    <tr>\n",
       "      <th>1</th>\n",
       "      <td>35698.5</td>\n",
       "      <td>1293502.5</td>\n",
       "      <td>1129500.0</td>\n",
       "      <td>270000.0</td>\n",
       "      <td>0.0</td>\n",
       "      <td>0.0</td>\n",
       "      <td>0.0</td>\n",
       "      <td>0.0</td>\n",
       "      <td>0.0</td>\n",
       "      <td>0.0</td>\n",
       "      <td>...</td>\n",
       "      <td>Core staff</td>\n",
       "      <td>0.003541</td>\n",
       "      <td>1</td>\n",
       "      <td>1</td>\n",
       "      <td>0</td>\n",
       "      <td>0</td>\n",
       "      <td>0</td>\n",
       "      <td>0</td>\n",
       "      <td>0</td>\n",
       "      <td>MONDAY</td>\n",
       "    </tr>\n",
       "    <tr>\n",
       "      <th>2</th>\n",
       "      <td>6750.0</td>\n",
       "      <td>135000.0</td>\n",
       "      <td>135000.0</td>\n",
       "      <td>67500.0</td>\n",
       "      <td>0.0</td>\n",
       "      <td>0.0</td>\n",
       "      <td>0.0</td>\n",
       "      <td>0.0</td>\n",
       "      <td>0.0</td>\n",
       "      <td>0.0</td>\n",
       "      <td>...</td>\n",
       "      <td>Laborers</td>\n",
       "      <td>0.010032</td>\n",
       "      <td>2</td>\n",
       "      <td>2</td>\n",
       "      <td>0</td>\n",
       "      <td>0</td>\n",
       "      <td>0</td>\n",
       "      <td>0</td>\n",
       "      <td>0</td>\n",
       "      <td>MONDAY</td>\n",
       "    </tr>\n",
       "    <tr>\n",
       "      <th>3</th>\n",
       "      <td>29686.5</td>\n",
       "      <td>312682.5</td>\n",
       "      <td>297000.0</td>\n",
       "      <td>135000.0</td>\n",
       "      <td>0.0</td>\n",
       "      <td>0.0</td>\n",
       "      <td>0.0</td>\n",
       "      <td>0.0</td>\n",
       "      <td>0.0</td>\n",
       "      <td>0.0</td>\n",
       "      <td>...</td>\n",
       "      <td>Laborers</td>\n",
       "      <td>0.008019</td>\n",
       "      <td>2</td>\n",
       "      <td>2</td>\n",
       "      <td>0</td>\n",
       "      <td>0</td>\n",
       "      <td>0</td>\n",
       "      <td>0</td>\n",
       "      <td>0</td>\n",
       "      <td>WEDNESDAY</td>\n",
       "    </tr>\n",
       "    <tr>\n",
       "      <th>4</th>\n",
       "      <td>21865.5</td>\n",
       "      <td>513000.0</td>\n",
       "      <td>513000.0</td>\n",
       "      <td>121500.0</td>\n",
       "      <td>0.0</td>\n",
       "      <td>0.0</td>\n",
       "      <td>0.0</td>\n",
       "      <td>0.0</td>\n",
       "      <td>0.0</td>\n",
       "      <td>0.0</td>\n",
       "      <td>...</td>\n",
       "      <td>Core staff</td>\n",
       "      <td>0.028663</td>\n",
       "      <td>2</td>\n",
       "      <td>2</td>\n",
       "      <td>0</td>\n",
       "      <td>1</td>\n",
       "      <td>0</td>\n",
       "      <td>0</td>\n",
       "      <td>0</td>\n",
       "      <td>THURSDAY</td>\n",
       "    </tr>\n",
       "  </tbody>\n",
       "</table>\n",
       "<p>5 rows × 73 columns</p>\n",
       "</div>"
      ],
      "text/plain": [
       "   AMT_ANNUITY  AMT_CREDIT  AMT_GOODS_PRICE  AMT_INCOME_TOTAL  \\\n",
       "0      24700.5    406597.5         351000.0          202500.0   \n",
       "1      35698.5   1293502.5        1129500.0          270000.0   \n",
       "2       6750.0    135000.0         135000.0           67500.0   \n",
       "3      29686.5    312682.5         297000.0          135000.0   \n",
       "4      21865.5    513000.0         513000.0          121500.0   \n",
       "\n",
       "   AMT_REQ_CREDIT_BUREAU_DAY  AMT_REQ_CREDIT_BUREAU_HOUR  \\\n",
       "0                        0.0                         0.0   \n",
       "1                        0.0                         0.0   \n",
       "2                        0.0                         0.0   \n",
       "3                        0.0                         0.0   \n",
       "4                        0.0                         0.0   \n",
       "\n",
       "   AMT_REQ_CREDIT_BUREAU_MON  AMT_REQ_CREDIT_BUREAU_QRT  \\\n",
       "0                        0.0                        0.0   \n",
       "1                        0.0                        0.0   \n",
       "2                        0.0                        0.0   \n",
       "3                        0.0                        0.0   \n",
       "4                        0.0                        0.0   \n",
       "\n",
       "   AMT_REQ_CREDIT_BUREAU_WEEK  AMT_REQ_CREDIT_BUREAU_YEAR  ...  \\\n",
       "0                         0.0                         1.0  ...   \n",
       "1                         0.0                         0.0  ...   \n",
       "2                         0.0                         0.0  ...   \n",
       "3                         0.0                         0.0  ...   \n",
       "4                         0.0                         0.0  ...   \n",
       "\n",
       "   OCCUPATION_TYPE  REGION_POPULATION_RELATIVE REGION_RATING_CLIENT  \\\n",
       "0         Laborers                    0.018801                    2   \n",
       "1       Core staff                    0.003541                    1   \n",
       "2         Laborers                    0.010032                    2   \n",
       "3         Laborers                    0.008019                    2   \n",
       "4       Core staff                    0.028663                    2   \n",
       "\n",
       "   REGION_RATING_CLIENT_W_CITY  REG_CITY_NOT_LIVE_CITY  \\\n",
       "0                            2                       0   \n",
       "1                            1                       0   \n",
       "2                            2                       0   \n",
       "3                            2                       0   \n",
       "4                            2                       0   \n",
       "\n",
       "   REG_CITY_NOT_WORK_CITY  REG_REGION_NOT_LIVE_REGION  \\\n",
       "0                       0                           0   \n",
       "1                       0                           0   \n",
       "2                       0                           0   \n",
       "3                       0                           0   \n",
       "4                       1                           0   \n",
       "\n",
       "   REG_REGION_NOT_WORK_REGION  TARGET  WEEKDAY_APPR_PROCESS_START  \n",
       "0                           0       1                   WEDNESDAY  \n",
       "1                           0       0                      MONDAY  \n",
       "2                           0       0                      MONDAY  \n",
       "3                           0       0                   WEDNESDAY  \n",
       "4                           0       0                    THURSDAY  \n",
       "\n",
       "[5 rows x 73 columns]"
      ]
     },
     "execution_count": 2,
     "metadata": {},
     "output_type": "execute_result"
    }
   ],
   "source": [
    "df = pd.read_csv('../application_data/cleaned_data_before_transform.csv')\n",
    "df.head()"
   ]
  },
  {
   "cell_type": "code",
   "execution_count": 12,
   "id": "f86351e0",
   "metadata": {},
   "outputs": [
    {
     "data": {
      "application/vnd.microsoft.datawrangler.viewer.v0+json": {
       "columns": [
        {
         "name": "index",
         "rawType": "int64",
         "type": "integer"
        },
        {
         "name": "CODE_GENDER_F",
         "rawType": "float64",
         "type": "float"
        },
        {
         "name": "CODE_GENDER_M",
         "rawType": "float64",
         "type": "float"
        },
        {
         "name": "CODE_GENDER_XNA",
         "rawType": "float64",
         "type": "float"
        },
        {
         "name": "EMERGENCYSTATE_MODE_No",
         "rawType": "float64",
         "type": "float"
        },
        {
         "name": "EMERGENCYSTATE_MODE_Yes",
         "rawType": "float64",
         "type": "float"
        },
        {
         "name": "FLAG_OWN_CAR_N",
         "rawType": "float64",
         "type": "float"
        },
        {
         "name": "FLAG_OWN_CAR_Y",
         "rawType": "float64",
         "type": "float"
        },
        {
         "name": "FLAG_OWN_REALTY_N",
         "rawType": "float64",
         "type": "float"
        },
        {
         "name": "FLAG_OWN_REALTY_Y",
         "rawType": "float64",
         "type": "float"
        },
        {
         "name": "NAME_CONTRACT_TYPE_Cash loans",
         "rawType": "float64",
         "type": "float"
        },
        {
         "name": "NAME_CONTRACT_TYPE_Revolving loans",
         "rawType": "float64",
         "type": "float"
        },
        {
         "name": "NAME_EDUCATION_TYPE_Academic degree",
         "rawType": "float64",
         "type": "float"
        },
        {
         "name": "NAME_EDUCATION_TYPE_Higher education",
         "rawType": "float64",
         "type": "float"
        },
        {
         "name": "NAME_EDUCATION_TYPE_Incomplete higher",
         "rawType": "float64",
         "type": "float"
        },
        {
         "name": "NAME_EDUCATION_TYPE_Lower secondary",
         "rawType": "float64",
         "type": "float"
        },
        {
         "name": "NAME_EDUCATION_TYPE_Secondary / secondary special",
         "rawType": "float64",
         "type": "float"
        },
        {
         "name": "NAME_FAMILY_STATUS_Civil marriage",
         "rawType": "float64",
         "type": "float"
        },
        {
         "name": "NAME_FAMILY_STATUS_Married",
         "rawType": "float64",
         "type": "float"
        },
        {
         "name": "NAME_FAMILY_STATUS_Separated",
         "rawType": "float64",
         "type": "float"
        },
        {
         "name": "NAME_FAMILY_STATUS_Single / not married",
         "rawType": "float64",
         "type": "float"
        },
        {
         "name": "NAME_FAMILY_STATUS_Unknown",
         "rawType": "float64",
         "type": "float"
        },
        {
         "name": "NAME_FAMILY_STATUS_Widow",
         "rawType": "float64",
         "type": "float"
        },
        {
         "name": "NAME_HOUSING_TYPE_Co-op apartment",
         "rawType": "float64",
         "type": "float"
        },
        {
         "name": "NAME_HOUSING_TYPE_House / apartment",
         "rawType": "float64",
         "type": "float"
        },
        {
         "name": "NAME_HOUSING_TYPE_Municipal apartment",
         "rawType": "float64",
         "type": "float"
        },
        {
         "name": "NAME_HOUSING_TYPE_Office apartment",
         "rawType": "float64",
         "type": "float"
        },
        {
         "name": "NAME_HOUSING_TYPE_Rented apartment",
         "rawType": "float64",
         "type": "float"
        },
        {
         "name": "NAME_HOUSING_TYPE_With parents",
         "rawType": "float64",
         "type": "float"
        },
        {
         "name": "NAME_INCOME_TYPE_Businessman",
         "rawType": "float64",
         "type": "float"
        },
        {
         "name": "NAME_INCOME_TYPE_Commercial associate",
         "rawType": "float64",
         "type": "float"
        },
        {
         "name": "NAME_INCOME_TYPE_Maternity leave",
         "rawType": "float64",
         "type": "float"
        },
        {
         "name": "NAME_INCOME_TYPE_Pensioner",
         "rawType": "float64",
         "type": "float"
        },
        {
         "name": "NAME_INCOME_TYPE_State servant",
         "rawType": "float64",
         "type": "float"
        },
        {
         "name": "NAME_INCOME_TYPE_Student",
         "rawType": "float64",
         "type": "float"
        },
        {
         "name": "NAME_INCOME_TYPE_Unemployed",
         "rawType": "float64",
         "type": "float"
        },
        {
         "name": "NAME_INCOME_TYPE_Working",
         "rawType": "float64",
         "type": "float"
        },
        {
         "name": "NAME_TYPE_SUITE_Children",
         "rawType": "float64",
         "type": "float"
        },
        {
         "name": "NAME_TYPE_SUITE_Family",
         "rawType": "float64",
         "type": "float"
        },
        {
         "name": "NAME_TYPE_SUITE_Group of people",
         "rawType": "float64",
         "type": "float"
        },
        {
         "name": "NAME_TYPE_SUITE_Other_A",
         "rawType": "float64",
         "type": "float"
        },
        {
         "name": "NAME_TYPE_SUITE_Other_B",
         "rawType": "float64",
         "type": "float"
        },
        {
         "name": "NAME_TYPE_SUITE_Spouse, partner",
         "rawType": "float64",
         "type": "float"
        },
        {
         "name": "NAME_TYPE_SUITE_Unaccompanied",
         "rawType": "float64",
         "type": "float"
        },
        {
         "name": "OCCUPATION_TYPE_Accountants",
         "rawType": "float64",
         "type": "float"
        },
        {
         "name": "OCCUPATION_TYPE_Core staff",
         "rawType": "float64",
         "type": "float"
        },
        {
         "name": "OCCUPATION_TYPE_Drivers",
         "rawType": "float64",
         "type": "float"
        },
        {
         "name": "OCCUPATION_TYPE_High skill tech staff",
         "rawType": "float64",
         "type": "float"
        },
        {
         "name": "OCCUPATION_TYPE_Laborers",
         "rawType": "float64",
         "type": "float"
        },
        {
         "name": "OCCUPATION_TYPE_Managers",
         "rawType": "float64",
         "type": "float"
        },
        {
         "name": "OCCUPATION_TYPE_Medicine staff",
         "rawType": "float64",
         "type": "float"
        },
        {
         "name": "OCCUPATION_TYPE_Otros",
         "rawType": "float64",
         "type": "float"
        },
        {
         "name": "OCCUPATION_TYPE_Sales staff",
         "rawType": "float64",
         "type": "float"
        },
        {
         "name": "OCCUPATION_TYPE_Security staff",
         "rawType": "float64",
         "type": "float"
        },
        {
         "name": "WEEKDAY_APPR_PROCESS_START_FRIDAY",
         "rawType": "float64",
         "type": "float"
        },
        {
         "name": "WEEKDAY_APPR_PROCESS_START_MONDAY",
         "rawType": "float64",
         "type": "float"
        },
        {
         "name": "WEEKDAY_APPR_PROCESS_START_SATURDAY",
         "rawType": "float64",
         "type": "float"
        },
        {
         "name": "WEEKDAY_APPR_PROCESS_START_SUNDAY",
         "rawType": "float64",
         "type": "float"
        },
        {
         "name": "WEEKDAY_APPR_PROCESS_START_THURSDAY",
         "rawType": "float64",
         "type": "float"
        },
        {
         "name": "WEEKDAY_APPR_PROCESS_START_TUESDAY",
         "rawType": "float64",
         "type": "float"
        },
        {
         "name": "WEEKDAY_APPR_PROCESS_START_WEDNESDAY",
         "rawType": "float64",
         "type": "float"
        },
        {
         "name": "AMT_ANNUITY",
         "rawType": "float64",
         "type": "float"
        },
        {
         "name": "AMT_CREDIT",
         "rawType": "float64",
         "type": "float"
        },
        {
         "name": "AMT_GOODS_PRICE",
         "rawType": "float64",
         "type": "float"
        },
        {
         "name": "AMT_INCOME_TOTAL",
         "rawType": "float64",
         "type": "float"
        },
        {
         "name": "AMT_REQ_CREDIT_BUREAU_DAY",
         "rawType": "float64",
         "type": "float"
        },
        {
         "name": "AMT_REQ_CREDIT_BUREAU_HOUR",
         "rawType": "float64",
         "type": "float"
        },
        {
         "name": "AMT_REQ_CREDIT_BUREAU_MON",
         "rawType": "float64",
         "type": "float"
        },
        {
         "name": "AMT_REQ_CREDIT_BUREAU_QRT",
         "rawType": "float64",
         "type": "float"
        },
        {
         "name": "AMT_REQ_CREDIT_BUREAU_WEEK",
         "rawType": "float64",
         "type": "float"
        },
        {
         "name": "AMT_REQ_CREDIT_BUREAU_YEAR",
         "rawType": "float64",
         "type": "float"
        },
        {
         "name": "CNT_CHILDREN",
         "rawType": "float64",
         "type": "float"
        },
        {
         "name": "CNT_FAM_MEMBERS",
         "rawType": "float64",
         "type": "float"
        },
        {
         "name": "DAYS_BIRTH",
         "rawType": "float64",
         "type": "float"
        },
        {
         "name": "DAYS_EMPLOYED",
         "rawType": "float64",
         "type": "float"
        },
        {
         "name": "DAYS_ID_PUBLISH",
         "rawType": "float64",
         "type": "float"
        },
        {
         "name": "DAYS_LAST_PHONE_CHANGE",
         "rawType": "float64",
         "type": "float"
        },
        {
         "name": "DAYS_REGISTRATION",
         "rawType": "float64",
         "type": "float"
        },
        {
         "name": "DEF_30_CNT_SOCIAL_CIRCLE",
         "rawType": "float64",
         "type": "float"
        },
        {
         "name": "DEF_60_CNT_SOCIAL_CIRCLE",
         "rawType": "float64",
         "type": "float"
        },
        {
         "name": "EXT_SOURCE_1",
         "rawType": "float64",
         "type": "float"
        },
        {
         "name": "EXT_SOURCE_2",
         "rawType": "float64",
         "type": "float"
        },
        {
         "name": "EXT_SOURCE_3",
         "rawType": "float64",
         "type": "float"
        },
        {
         "name": "FLAG_CONT_MOBILE",
         "rawType": "float64",
         "type": "float"
        },
        {
         "name": "FLAG_DOCUMENT_10",
         "rawType": "float64",
         "type": "float"
        },
        {
         "name": "FLAG_DOCUMENT_11",
         "rawType": "float64",
         "type": "float"
        },
        {
         "name": "FLAG_DOCUMENT_12",
         "rawType": "float64",
         "type": "float"
        },
        {
         "name": "FLAG_DOCUMENT_13",
         "rawType": "float64",
         "type": "float"
        },
        {
         "name": "FLAG_DOCUMENT_14",
         "rawType": "float64",
         "type": "float"
        },
        {
         "name": "FLAG_DOCUMENT_15",
         "rawType": "float64",
         "type": "float"
        },
        {
         "name": "FLAG_DOCUMENT_16",
         "rawType": "float64",
         "type": "float"
        },
        {
         "name": "FLAG_DOCUMENT_17",
         "rawType": "float64",
         "type": "float"
        },
        {
         "name": "FLAG_DOCUMENT_18",
         "rawType": "float64",
         "type": "float"
        },
        {
         "name": "FLAG_DOCUMENT_19",
         "rawType": "float64",
         "type": "float"
        },
        {
         "name": "FLAG_DOCUMENT_2",
         "rawType": "float64",
         "type": "float"
        },
        {
         "name": "FLAG_DOCUMENT_20",
         "rawType": "float64",
         "type": "float"
        },
        {
         "name": "FLAG_DOCUMENT_21",
         "rawType": "float64",
         "type": "float"
        },
        {
         "name": "FLAG_DOCUMENT_3",
         "rawType": "float64",
         "type": "float"
        },
        {
         "name": "FLAG_DOCUMENT_4",
         "rawType": "float64",
         "type": "float"
        },
        {
         "name": "FLAG_DOCUMENT_5",
         "rawType": "float64",
         "type": "float"
        },
        {
         "name": "FLAG_DOCUMENT_6",
         "rawType": "float64",
         "type": "float"
        },
        {
         "name": "FLAG_DOCUMENT_7",
         "rawType": "float64",
         "type": "float"
        },
        {
         "name": "FLAG_DOCUMENT_8",
         "rawType": "float64",
         "type": "float"
        },
        {
         "name": "FLAG_DOCUMENT_9",
         "rawType": "float64",
         "type": "float"
        },
        {
         "name": "FLAG_EMAIL",
         "rawType": "float64",
         "type": "float"
        },
        {
         "name": "FLAG_EMP_PHONE",
         "rawType": "float64",
         "type": "float"
        },
        {
         "name": "FLAG_MOBIL",
         "rawType": "float64",
         "type": "float"
        },
        {
         "name": "FLAG_PHONE",
         "rawType": "float64",
         "type": "float"
        },
        {
         "name": "FLAG_WORK_PHONE",
         "rawType": "float64",
         "type": "float"
        },
        {
         "name": "HOUR_APPR_PROCESS_START",
         "rawType": "float64",
         "type": "float"
        },
        {
         "name": "LIVE_CITY_NOT_WORK_CITY",
         "rawType": "float64",
         "type": "float"
        },
        {
         "name": "LIVE_REGION_NOT_WORK_REGION",
         "rawType": "float64",
         "type": "float"
        },
        {
         "name": "OBS_30_CNT_SOCIAL_CIRCLE",
         "rawType": "float64",
         "type": "float"
        },
        {
         "name": "OBS_60_CNT_SOCIAL_CIRCLE",
         "rawType": "float64",
         "type": "float"
        },
        {
         "name": "REGION_POPULATION_RELATIVE",
         "rawType": "float64",
         "type": "float"
        },
        {
         "name": "REGION_RATING_CLIENT",
         "rawType": "float64",
         "type": "float"
        },
        {
         "name": "REGION_RATING_CLIENT_W_CITY",
         "rawType": "float64",
         "type": "float"
        },
        {
         "name": "REG_CITY_NOT_LIVE_CITY",
         "rawType": "float64",
         "type": "float"
        },
        {
         "name": "REG_CITY_NOT_WORK_CITY",
         "rawType": "float64",
         "type": "float"
        },
        {
         "name": "REG_REGION_NOT_LIVE_REGION",
         "rawType": "float64",
         "type": "float"
        },
        {
         "name": "REG_REGION_NOT_WORK_REGION",
         "rawType": "float64",
         "type": "float"
        },
        {
         "name": "TARGET",
         "rawType": "float64",
         "type": "float"
        }
       ],
       "ref": "a29201fb-9959-473d-afaf-7813b3e04912",
       "rows": [
        [
         "0",
         "0.0",
         "1.0",
         "0.0",
         "1.0",
         "0.0",
         "1.0",
         "0.0",
         "0.0",
         "1.0",
         "1.0",
         "0.0",
         "0.0",
         "0.0",
         "0.0",
         "0.0",
         "1.0",
         "0.0",
         "0.0",
         "0.0",
         "1.0",
         "0.0",
         "0.0",
         "0.0",
         "1.0",
         "0.0",
         "0.0",
         "0.0",
         "0.0",
         "0.0",
         "0.0",
         "0.0",
         "0.0",
         "0.0",
         "0.0",
         "0.0",
         "1.0",
         "0.0",
         "0.0",
         "0.0",
         "0.0",
         "0.0",
         "0.0",
         "1.0",
         "0.0",
         "0.0",
         "0.0",
         "0.0",
         "1.0",
         "0.0",
         "0.0",
         "0.0",
         "0.0",
         "0.0",
         "0.0",
         "0.0",
         "0.0",
         "0.0",
         "0.0",
         "0.0",
         "1.0",
         "-0.1661493346398724",
         "-0.478094961637046",
         "-0.5074653466528908",
         "0.1421292523745838",
         "-0.0587659844113892",
         "-0.0709874255293859",
         "-0.2699465404703541",
         "-0.3086195927925884",
         "-0.1558374860713054",
         "-0.3467188144247173",
         "-0.5775378417531575",
         "-1.265722304913412",
         "1.5068796722486095",
         "-0.456215190254278",
         "0.5791536996927186",
         "-0.2069908218045835",
         "0.3798369806339658",
         "4.163504469691203",
         "5.25326045208204",
         "-3.006517976890123",
         "-1.3174633898197776",
         "-2.1292490198716214",
         "0.043244544221182",
         "-0.0047711562043218",
         "-0.0626691268500504",
         "-0.002550269531501",
         "-0.0594772837205833",
         "-0.0542690393624153",
         "-0.0348019827142341",
         "-0.1001381830418742",
         "-0.0163318171892201",
         "-0.0905341134748674",
         "-0.0244019470277115",
         "-0.0065020533475843",
         "-0.0225290125995907",
         "-0.018304633158481",
         "0.6390651950567879",
         "-0.0090169016118601",
         "-0.1238824967803126",
         "-0.3107375469434498",
         "-0.0138527929964759",
         "-0.2976316640296898",
         "-0.0625382457342507",
         "-0.2452152537441071",
         "0.4686968611422856",
         "0.0018033099474777",
         "1.5993369060197018",
         "-0.4990130509443712",
         "-0.6318212520478398",
         "-0.4678141520480608",
         "-0.2058686511044887",
         "0.2428614022617203",
         "0.2521321459057403",
         "-0.1494522127017518",
         "-0.1030643517695607",
         "-0.0626985338920003",
         "-0.2912078747261006",
         "-0.547235515556207",
         "-0.1240042191443628",
         "-0.2312666277586392",
         "3.3744851533844"
        ],
        [
         "1",
         "1.0",
         "0.0",
         "0.0",
         "1.0",
         "0.0",
         "1.0",
         "0.0",
         "1.0",
         "0.0",
         "1.0",
         "0.0",
         "0.0",
         "1.0",
         "0.0",
         "0.0",
         "0.0",
         "0.0",
         "1.0",
         "0.0",
         "0.0",
         "0.0",
         "0.0",
         "0.0",
         "1.0",
         "0.0",
         "0.0",
         "0.0",
         "0.0",
         "0.0",
         "0.0",
         "0.0",
         "0.0",
         "1.0",
         "0.0",
         "0.0",
         "0.0",
         "0.0",
         "1.0",
         "0.0",
         "0.0",
         "0.0",
         "0.0",
         "0.0",
         "0.0",
         "1.0",
         "0.0",
         "0.0",
         "0.0",
         "0.0",
         "0.0",
         "0.0",
         "0.0",
         "0.0",
         "0.0",
         "1.0",
         "0.0",
         "0.0",
         "0.0",
         "0.0",
         "0.0",
         "0.5926772011241157",
         "1.7254497970614004",
         "1.6006977682233257",
         "0.4267919300242166",
         "-0.0587659844113892",
         "-0.0709874255293859",
         "-0.2699465404703541",
         "-0.3086195927925884",
         "-0.1558374860713054",
         "-0.8855648541511967",
         "-0.5775378417531575",
         "-0.1676383858309046",
         "-0.1668212679480332",
         "-0.460115370090374",
         "1.7908549592098342",
         "0.1631081792186625",
         "1.0786968866344406",
         "-0.3204804461387341",
         "-0.2756631696710641",
         "-1.3692229209327105",
         "0.5651058136996131",
         "-3.3052670495042208e-12",
         "0.043244544221182",
         "-0.0047711562043218",
         "-0.0626691268500504",
         "-0.002550269531501",
         "-0.0594772837205833",
         "-0.0542690393624153",
         "-0.0348019827142341",
         "-0.1001381830418742",
         "-0.0163318171892201",
         "-0.0905341134748674",
         "-0.0244019470277115",
         "-0.0065020533475843",
         "-0.0225290125995907",
         "-0.018304633158481",
         "0.6390651950567879",
         "-0.0090169016118601",
         "-0.1238824967803126",
         "-0.3107375469434498",
         "-0.0138527929964759",
         "-0.2976316640296898",
         "-0.0625382457342507",
         "-0.2452152537441071",
         "0.4686968611422856",
         "0.0018033099474777",
         "1.5993369060197018",
         "-0.4990130509443712",
         "-0.325620091747389",
         "-0.4678141520480608",
         "-0.2058686511044887",
         "-0.1740847040531329",
         "-0.1685272088889042",
         "-1.2527502933426344",
         "-2.0675732389579",
         "-2.05181324096546",
         "-0.2912078747261006",
         "-0.547235515556207",
         "-0.1240042191443628",
         "-0.2312666277586392",
         "-0.2963415023480742"
        ],
        [
         "2",
         "0.0",
         "1.0",
         "0.0",
         "1.0",
         "0.0",
         "0.0",
         "1.0",
         "0.0",
         "1.0",
         "0.0",
         "1.0",
         "0.0",
         "0.0",
         "0.0",
         "0.0",
         "1.0",
         "0.0",
         "0.0",
         "0.0",
         "1.0",
         "0.0",
         "0.0",
         "0.0",
         "1.0",
         "0.0",
         "0.0",
         "0.0",
         "0.0",
         "0.0",
         "0.0",
         "0.0",
         "0.0",
         "0.0",
         "0.0",
         "0.0",
         "1.0",
         "0.0",
         "0.0",
         "0.0",
         "0.0",
         "0.0",
         "0.0",
         "1.0",
         "0.0",
         "0.0",
         "0.0",
         "0.0",
         "1.0",
         "0.0",
         "0.0",
         "0.0",
         "0.0",
         "0.0",
         "0.0",
         "1.0",
         "0.0",
         "0.0",
         "0.0",
         "0.0",
         "0.0",
         "-1.4046759513184932",
         "-1.1528879187188097",
         "-1.0923892166763496",
         "-0.4271961029246817",
         "-0.0587659844113892",
         "-0.0709874255293859",
         "-0.2699465404703541",
         "-0.3086195927925884",
         "-0.1558374860713054",
         "-0.8855648541511967",
         "-0.5775378417531575",
         "-1.265722304913412",
         "-0.6895090889486553",
         "-0.4532989033350918",
         "0.3068687255748758",
         "0.1788313393928527",
         "0.2061155092804765",
         "-0.3204804461387341",
         "-0.2756631696710641",
         "6.7906152384939044e-12",
         "0.2175445982480449",
         "1.2536333427755697",
         "0.043244544221182",
         "-0.0047711562043218",
         "-0.0626691268500504",
         "-0.002550269531501",
         "-0.0594772837205833",
         "-0.0542690393624153",
         "-0.0348019827142341",
         "-0.1001381830418742",
         "-0.0163318171892201",
         "-0.0905341134748674",
         "-0.0244019470277115",
         "-0.0065020533475843",
         "-0.0225290125995907",
         "-0.018304633158481",
         "-1.5647855770227883",
         "-0.0090169016118601",
         "-0.1238824967803126",
         "-0.3107375469434498",
         "-0.0138527929964759",
         "-0.2976316640296898",
         "-0.0625382457342507",
         "-0.2452152537441071",
         "0.4686968611422856",
         "0.0018033099474777",
         "1.5993369060197018",
         "2.0039556041896165",
         "-0.9380224123482904",
         "-0.4678141520480608",
         "-0.2058686511044887",
         "-0.5910308103679862",
         "-0.5891865636835488",
         "-0.7834509590411907",
         "-0.1030643517695607",
         "-0.0626985338920003",
         "-0.2912078747261006",
         "-0.547235515556207",
         "-0.1240042191443628",
         "-0.2312666277586392",
         "-0.2963415023480742"
        ],
        [
         "3",
         "1.0",
         "0.0",
         "0.0",
         "1.0",
         "0.0",
         "1.0",
         "0.0",
         "0.0",
         "1.0",
         "1.0",
         "0.0",
         "0.0",
         "0.0",
         "0.0",
         "0.0",
         "1.0",
         "1.0",
         "0.0",
         "0.0",
         "0.0",
         "0.0",
         "0.0",
         "0.0",
         "1.0",
         "0.0",
         "0.0",
         "0.0",
         "0.0",
         "0.0",
         "0.0",
         "0.0",
         "0.0",
         "0.0",
         "0.0",
         "0.0",
         "1.0",
         "0.0",
         "0.0",
         "0.0",
         "0.0",
         "0.0",
         "0.0",
         "1.0",
         "0.0",
         "0.0",
         "0.0",
         "0.0",
         "1.0",
         "0.0",
         "0.0",
         "0.0",
         "0.0",
         "0.0",
         "0.0",
         "0.0",
         "0.0",
         "0.0",
         "0.0",
         "0.0",
         "1.0",
         "0.1778685874658963",
         "-0.7114298802733877",
         "-0.6536963141587555",
         "-0.1425334252750489",
         "-0.0587659844113892",
         "-0.0709874255293859",
         "-0.2699465404703541",
         "-0.3086195927925884",
         "-0.1558374860713054",
         "-0.8855648541511967",
         "-0.5775378417531575",
         "-0.1676383858309046",
         "-0.6801139987859961",
         "-0.4732174261277854",
         "0.3691431478791999",
         "0.418307163584365",
         "-1.375828542766902",
         "-0.3204804461387341",
         "-0.2756631696710641",
         "6.7906152384939044e-12",
         "0.71284079216021",
         "-3.3052670495042208e-12",
         "0.043244544221182",
         "-0.0047711562043218",
         "-0.0626691268500504",
         "-0.002550269531501",
         "-0.0594772837205833",
         "-0.0542690393624153",
         "-0.0348019827142341",
         "-0.1001381830418742",
         "-0.0163318171892201",
         "-0.0905341134748674",
         "-0.0244019470277115",
         "-0.0065020533475843",
         "-0.0225290125995907",
         "-0.018304633158481",
         "0.6390651950567879",
         "-0.0090169016118601",
         "-0.1238824967803126",
         "-0.3107375469434498",
         "-0.0138527929964759",
         "-0.2976316640296898",
         "-0.0625382457342507",
         "-0.2452152537441071",
         "0.4686968611422856",
         "0.0018033099474777",
         "-0.625259128479233",
         "-0.4990130509443712",
         "1.5115868700553157",
         "-0.4678141520480608",
         "-0.2058686511044887",
         "0.2428614022617203",
         "0.2521321459057403",
         "-0.9289908696788106",
         "-0.1030643517695607",
         "-0.0626985338920003",
         "-0.2912078747261006",
         "-0.547235515556207",
         "-0.1240042191443628",
         "-0.2312666277586392",
         "-0.2963415023480742"
        ],
        [
         "4",
         "0.0",
         "1.0",
         "0.0",
         "1.0",
         "0.0",
         "1.0",
         "0.0",
         "0.0",
         "1.0",
         "1.0",
         "0.0",
         "0.0",
         "0.0",
         "0.0",
         "0.0",
         "1.0",
         "0.0",
         "0.0",
         "0.0",
         "1.0",
         "0.0",
         "0.0",
         "0.0",
         "1.0",
         "0.0",
         "0.0",
         "0.0",
         "0.0",
         "0.0",
         "0.0",
         "0.0",
         "0.0",
         "0.0",
         "0.0",
         "0.0",
         "1.0",
         "0.0",
         "0.0",
         "0.0",
         "0.0",
         "0.0",
         "0.0",
         "1.0",
         "0.0",
         "1.0",
         "0.0",
         "0.0",
         "0.0",
         "0.0",
         "0.0",
         "0.0",
         "0.0",
         "0.0",
         "0.0",
         "0.0",
         "0.0",
         "0.0",
         "1.0",
         "0.0",
         "0.0",
         "-0.361755192876907",
         "-0.213734436905072",
         "-0.0687724441352966",
         "-0.1994659608049754",
         "-0.0587659844113892",
         "-0.0709874255293859",
         "-0.2699465404703541",
         "-0.3086195927925884",
         "-0.1558374860713054",
         "-0.8855648541511967",
         "-0.5775378417531575",
         "-1.265722304913412",
         "-0.8925346958783138",
         "-0.4732103477614767",
         "-0.3072630773624484",
         "-0.1731255537370969",
         "0.191638720001019",
         "-0.3204804461387341",
         "-0.2756631696710641",
         "6.7906152384939044e-12",
         "-1.0041900258409826",
         "-3.3052670495042208e-12",
         "0.043244544221182",
         "-0.0047711562043218",
         "-0.0626691268500504",
         "-0.002550269531501",
         "-0.0594772837205833",
         "-0.0542690393624153",
         "-0.0348019827142341",
         "-0.1001381830418742",
         "-0.0163318171892201",
         "-0.0905341134748674",
         "-0.0244019470277115",
         "-0.0065020533475843",
         "-0.0225290125995907",
         "-0.018304633158481",
         "-1.5647855770227883",
         "-0.0090169016118601",
         "-0.1238824967803126",
         "-0.3107375469434498",
         "-0.0138527929964759",
         "3.35985757180127",
         "-0.0625382457342507",
         "-0.2452152537441071",
         "0.4686968611422856",
         "0.0018033099474777",
         "-0.625259128479233",
         "-0.4990130509443712",
         "-0.325620091747389",
         "2.1376010016321207",
         "-0.2058686511044887",
         "-0.5910308103679862",
         "-0.5891865636835488",
         "0.5635704394136031",
         "-0.1030643517695607",
         "-0.0626985338920003",
         "-0.2912078747261006",
         "1.8273667764020356",
         "-0.1240042191443628",
         "-0.2312666277586392",
         "-0.2963415023480742"
        ]
       ],
       "shape": {
        "columns": 121,
        "rows": 5
       }
      },
      "text/html": [
       "<div>\n",
       "<style scoped>\n",
       "    .dataframe tbody tr th:only-of-type {\n",
       "        vertical-align: middle;\n",
       "    }\n",
       "\n",
       "    .dataframe tbody tr th {\n",
       "        vertical-align: top;\n",
       "    }\n",
       "\n",
       "    .dataframe thead th {\n",
       "        text-align: right;\n",
       "    }\n",
       "</style>\n",
       "<table border=\"1\" class=\"dataframe\">\n",
       "  <thead>\n",
       "    <tr style=\"text-align: right;\">\n",
       "      <th></th>\n",
       "      <th>CODE_GENDER_F</th>\n",
       "      <th>CODE_GENDER_M</th>\n",
       "      <th>CODE_GENDER_XNA</th>\n",
       "      <th>EMERGENCYSTATE_MODE_No</th>\n",
       "      <th>EMERGENCYSTATE_MODE_Yes</th>\n",
       "      <th>FLAG_OWN_CAR_N</th>\n",
       "      <th>FLAG_OWN_CAR_Y</th>\n",
       "      <th>FLAG_OWN_REALTY_N</th>\n",
       "      <th>FLAG_OWN_REALTY_Y</th>\n",
       "      <th>NAME_CONTRACT_TYPE_Cash loans</th>\n",
       "      <th>...</th>\n",
       "      <th>OBS_30_CNT_SOCIAL_CIRCLE</th>\n",
       "      <th>OBS_60_CNT_SOCIAL_CIRCLE</th>\n",
       "      <th>REGION_POPULATION_RELATIVE</th>\n",
       "      <th>REGION_RATING_CLIENT</th>\n",
       "      <th>REGION_RATING_CLIENT_W_CITY</th>\n",
       "      <th>REG_CITY_NOT_LIVE_CITY</th>\n",
       "      <th>REG_CITY_NOT_WORK_CITY</th>\n",
       "      <th>REG_REGION_NOT_LIVE_REGION</th>\n",
       "      <th>REG_REGION_NOT_WORK_REGION</th>\n",
       "      <th>TARGET</th>\n",
       "    </tr>\n",
       "  </thead>\n",
       "  <tbody>\n",
       "    <tr>\n",
       "      <th>0</th>\n",
       "      <td>0.0</td>\n",
       "      <td>1.0</td>\n",
       "      <td>0.0</td>\n",
       "      <td>1.0</td>\n",
       "      <td>0.0</td>\n",
       "      <td>1.0</td>\n",
       "      <td>0.0</td>\n",
       "      <td>0.0</td>\n",
       "      <td>1.0</td>\n",
       "      <td>1.0</td>\n",
       "      <td>...</td>\n",
       "      <td>0.242861</td>\n",
       "      <td>0.252132</td>\n",
       "      <td>-0.149452</td>\n",
       "      <td>-0.103064</td>\n",
       "      <td>-0.062699</td>\n",
       "      <td>-0.291208</td>\n",
       "      <td>-0.547236</td>\n",
       "      <td>-0.124004</td>\n",
       "      <td>-0.231267</td>\n",
       "      <td>3.374485</td>\n",
       "    </tr>\n",
       "    <tr>\n",
       "      <th>1</th>\n",
       "      <td>1.0</td>\n",
       "      <td>0.0</td>\n",
       "      <td>0.0</td>\n",
       "      <td>1.0</td>\n",
       "      <td>0.0</td>\n",
       "      <td>1.0</td>\n",
       "      <td>0.0</td>\n",
       "      <td>1.0</td>\n",
       "      <td>0.0</td>\n",
       "      <td>1.0</td>\n",
       "      <td>...</td>\n",
       "      <td>-0.174085</td>\n",
       "      <td>-0.168527</td>\n",
       "      <td>-1.252750</td>\n",
       "      <td>-2.067573</td>\n",
       "      <td>-2.051813</td>\n",
       "      <td>-0.291208</td>\n",
       "      <td>-0.547236</td>\n",
       "      <td>-0.124004</td>\n",
       "      <td>-0.231267</td>\n",
       "      <td>-0.296342</td>\n",
       "    </tr>\n",
       "    <tr>\n",
       "      <th>2</th>\n",
       "      <td>0.0</td>\n",
       "      <td>1.0</td>\n",
       "      <td>0.0</td>\n",
       "      <td>1.0</td>\n",
       "      <td>0.0</td>\n",
       "      <td>0.0</td>\n",
       "      <td>1.0</td>\n",
       "      <td>0.0</td>\n",
       "      <td>1.0</td>\n",
       "      <td>0.0</td>\n",
       "      <td>...</td>\n",
       "      <td>-0.591031</td>\n",
       "      <td>-0.589187</td>\n",
       "      <td>-0.783451</td>\n",
       "      <td>-0.103064</td>\n",
       "      <td>-0.062699</td>\n",
       "      <td>-0.291208</td>\n",
       "      <td>-0.547236</td>\n",
       "      <td>-0.124004</td>\n",
       "      <td>-0.231267</td>\n",
       "      <td>-0.296342</td>\n",
       "    </tr>\n",
       "    <tr>\n",
       "      <th>3</th>\n",
       "      <td>1.0</td>\n",
       "      <td>0.0</td>\n",
       "      <td>0.0</td>\n",
       "      <td>1.0</td>\n",
       "      <td>0.0</td>\n",
       "      <td>1.0</td>\n",
       "      <td>0.0</td>\n",
       "      <td>0.0</td>\n",
       "      <td>1.0</td>\n",
       "      <td>1.0</td>\n",
       "      <td>...</td>\n",
       "      <td>0.242861</td>\n",
       "      <td>0.252132</td>\n",
       "      <td>-0.928991</td>\n",
       "      <td>-0.103064</td>\n",
       "      <td>-0.062699</td>\n",
       "      <td>-0.291208</td>\n",
       "      <td>-0.547236</td>\n",
       "      <td>-0.124004</td>\n",
       "      <td>-0.231267</td>\n",
       "      <td>-0.296342</td>\n",
       "    </tr>\n",
       "    <tr>\n",
       "      <th>4</th>\n",
       "      <td>0.0</td>\n",
       "      <td>1.0</td>\n",
       "      <td>0.0</td>\n",
       "      <td>1.0</td>\n",
       "      <td>0.0</td>\n",
       "      <td>1.0</td>\n",
       "      <td>0.0</td>\n",
       "      <td>0.0</td>\n",
       "      <td>1.0</td>\n",
       "      <td>1.0</td>\n",
       "      <td>...</td>\n",
       "      <td>-0.591031</td>\n",
       "      <td>-0.589187</td>\n",
       "      <td>0.563570</td>\n",
       "      <td>-0.103064</td>\n",
       "      <td>-0.062699</td>\n",
       "      <td>-0.291208</td>\n",
       "      <td>1.827367</td>\n",
       "      <td>-0.124004</td>\n",
       "      <td>-0.231267</td>\n",
       "      <td>-0.296342</td>\n",
       "    </tr>\n",
       "  </tbody>\n",
       "</table>\n",
       "<p>5 rows × 121 columns</p>\n",
       "</div>"
      ],
      "text/plain": [
       "   CODE_GENDER_F  CODE_GENDER_M  CODE_GENDER_XNA  EMERGENCYSTATE_MODE_No  \\\n",
       "0            0.0            1.0              0.0                     1.0   \n",
       "1            1.0            0.0              0.0                     1.0   \n",
       "2            0.0            1.0              0.0                     1.0   \n",
       "3            1.0            0.0              0.0                     1.0   \n",
       "4            0.0            1.0              0.0                     1.0   \n",
       "\n",
       "   EMERGENCYSTATE_MODE_Yes  FLAG_OWN_CAR_N  FLAG_OWN_CAR_Y  FLAG_OWN_REALTY_N  \\\n",
       "0                      0.0             1.0             0.0                0.0   \n",
       "1                      0.0             1.0             0.0                1.0   \n",
       "2                      0.0             0.0             1.0                0.0   \n",
       "3                      0.0             1.0             0.0                0.0   \n",
       "4                      0.0             1.0             0.0                0.0   \n",
       "\n",
       "   FLAG_OWN_REALTY_Y  NAME_CONTRACT_TYPE_Cash loans  ...  \\\n",
       "0                1.0                            1.0  ...   \n",
       "1                0.0                            1.0  ...   \n",
       "2                1.0                            0.0  ...   \n",
       "3                1.0                            1.0  ...   \n",
       "4                1.0                            1.0  ...   \n",
       "\n",
       "   OBS_30_CNT_SOCIAL_CIRCLE  OBS_60_CNT_SOCIAL_CIRCLE  \\\n",
       "0                  0.242861                  0.252132   \n",
       "1                 -0.174085                 -0.168527   \n",
       "2                 -0.591031                 -0.589187   \n",
       "3                  0.242861                  0.252132   \n",
       "4                 -0.591031                 -0.589187   \n",
       "\n",
       "   REGION_POPULATION_RELATIVE  REGION_RATING_CLIENT  \\\n",
       "0                   -0.149452             -0.103064   \n",
       "1                   -1.252750             -2.067573   \n",
       "2                   -0.783451             -0.103064   \n",
       "3                   -0.928991             -0.103064   \n",
       "4                    0.563570             -0.103064   \n",
       "\n",
       "   REGION_RATING_CLIENT_W_CITY  REG_CITY_NOT_LIVE_CITY  \\\n",
       "0                    -0.062699               -0.291208   \n",
       "1                    -2.051813               -0.291208   \n",
       "2                    -0.062699               -0.291208   \n",
       "3                    -0.062699               -0.291208   \n",
       "4                    -0.062699               -0.291208   \n",
       "\n",
       "   REG_CITY_NOT_WORK_CITY  REG_REGION_NOT_LIVE_REGION  \\\n",
       "0               -0.547236                   -0.124004   \n",
       "1               -0.547236                   -0.124004   \n",
       "2               -0.547236                   -0.124004   \n",
       "3               -0.547236                   -0.124004   \n",
       "4                1.827367                   -0.124004   \n",
       "\n",
       "   REG_REGION_NOT_WORK_REGION    TARGET  \n",
       "0                   -0.231267  3.374485  \n",
       "1                   -0.231267 -0.296342  \n",
       "2                   -0.231267 -0.296342  \n",
       "3                   -0.231267 -0.296342  \n",
       "4                   -0.231267 -0.296342  \n",
       "\n",
       "[5 rows x 121 columns]"
      ]
     },
     "execution_count": 12,
     "metadata": {},
     "output_type": "execute_result"
    }
   ],
   "source": [
    "df_processed = pd.read_csv('../application_data/cleaned_data_scaled.csv')\n",
    "df_processed.head()"
   ]
  },
  {
   "cell_type": "code",
   "execution_count": 3,
   "id": "f50582f4",
   "metadata": {},
   "outputs": [
    {
     "data": {
      "image/png": "[encoded data removed]",
      "text/plain": [
       "<Figure size 800x600 with 1 Axes>"
      ]
     },
     "metadata": {},
     "output_type": "display_data"
    }
   ],
   "source": [
    "df_gender = df.groupby([\"CODE_GENDER\", \"TARGET\"])[\"TARGET\"].count().reset_index(name=\"count\")\n",
    "\n",
    "# Hacemos el barplot\n",
    "plt.figure(figsize=(8,6))\n",
    "sns.barplot(\n",
    "    data=df_gender,\n",
    "    x=\"CODE_GENDER\",\n",
    "    y=\"count\",\n",
    "    hue=\"TARGET\"   \n",
    ")\n",
    "plt.title(\"Conteo de clientes por Género y Fraude\")\n",
    "plt.ylabel(\"Cantidad\")\n",
    "plt.xlabel(\"Género\")\n",
    "plt.legend(title='Fraude', loc='upper right')\n",
    "plt.show()"
   ]
  },
  {
   "cell_type": "code",
   "execution_count": 4,
   "id": "fe368b74",
   "metadata": {},
   "outputs": [
    {
     "name": "stderr",
     "output_type": "stream",
     "text": [
      "C:\\Users\\ASUS ROG\\AppData\\Local\\Temp\\ipykernel_29420\\4278961448.py:5: FutureWarning: The default of observed=False is deprecated and will be changed to True in a future version of pandas. Pass observed=False to retain current behavior or observed=True to adopt the future default and silence this warning.\n",
      "  df_age_count = df_age.groupby(['AGE_BIN','TARGET'])['TARGET'].count().reset_index(name=\"count\")\n"
     ]
    },
    {
     "data": {
      "image/png": "[encoded data removed]",
      "text/plain": [
       "<Figure size 800x600 with 1 Axes>"
      ]
     },
     "metadata": {},
     "output_type": "display_data"
    }
   ],
   "source": [
    "df_age = df[['DAYS_BIRTH','TARGET']].copy()\n",
    "df_age['YEARS_BIRTH'] = (df_age['DAYS_BIRTH'] / -365).astype(int)\n",
    "df_age.drop(columns='DAYS_BIRTH')\n",
    "df_age['AGE_BIN'] = pd.cut(df_age['YEARS_BIRTH'], bins=range(df_age['YEARS_BIRTH'].min(), df_age['YEARS_BIRTH'].max(), 10), right=False)\n",
    "df_age_count = df_age.groupby(['AGE_BIN','TARGET'])['TARGET'].count().reset_index(name=\"count\")\n",
    "#df_age_count = df_age.groupby(['YEARS_BIRTH','TARGET'])['TARGET'].count().reset_index(name=\"count\")\n",
    "\n",
    "# Hacemos el barplot\n",
    "plt.figure(figsize=(8,6))\n",
    "sns.barplot(\n",
    "    data=df_age_count,\n",
    "    x=\"AGE_BIN\",\n",
    "    y=\"count\",\n",
    "    hue=\"TARGET\",\n",
    ")\n",
    "plt.title(\"Conteo de clientes por Edad y Fraude\")\n",
    "plt.ylabel(\"Cantidad\")\n",
    "plt.xlabel(\"Edad (años)\")\n",
    "plt.legend(title='Fraude', loc='upper right')\n",
    "plt.show()"
   ]
  },
  {
   "cell_type": "code",
   "execution_count": 9,
   "id": "3b448ff2",
   "metadata": {},
   "outputs": [
    {
     "data": {
      "text/plain": [
       "365243"
      ]
     },
     "execution_count": 9,
     "metadata": {},
     "output_type": "execute_result"
    }
   ],
   "source": [
    "df['DAYS_EMPLOYED'].unique().max()"
   ]
  },
  {
   "cell_type": "code",
   "execution_count": 10,
   "id": "a637c10a",
   "metadata": {},
   "outputs": [
    {
     "data": {
      "text/plain": [
       "<Axes: xlabel='DAYS_EMPLOYED'>"
      ]
     },
     "execution_count": 10,
     "metadata": {},
     "output_type": "execute_result"
    },
    {
     "data": {
      "image/png": "[encoded data removed]",
      "text/plain": [
       "<Figure size 640x480 with 1 Axes>"
      ]
     },
     "metadata": {},
     "output_type": "display_data"
    }
   ],
   "source": [
    "sns.boxplot(data=df, x='DAYS_EMPLOYED')\n"
   ]
  },
  {
   "cell_type": "code",
   "execution_count": 6,
   "id": "18ee90d4",
   "metadata": {},
   "outputs": [
    {
     "ename": "KeyError",
     "evalue": "\"['DAYS_BIRTH'] not found in axis\"",
     "output_type": "error",
     "traceback": [
      "\u001b[31m---------------------------------------------------------------------------\u001b[39m",
      "\u001b[31mKeyError\u001b[39m                                  Traceback (most recent call last)",
      "\u001b[36mCell\u001b[39m\u001b[36m \u001b[39m\u001b[32mIn[6]\u001b[39m\u001b[32m, line 3\u001b[39m\n\u001b[32m      1\u001b[39m df_age = df[[\u001b[33m'\u001b[39m\u001b[33mDAYS_EMPLOYED\u001b[39m\u001b[33m'\u001b[39m,\u001b[33m'\u001b[39m\u001b[33mTARGET\u001b[39m\u001b[33m'\u001b[39m]].copy()\n\u001b[32m      2\u001b[39m df_age[\u001b[33m'\u001b[39m\u001b[33mYEARS_BIRTH\u001b[39m\u001b[33m'\u001b[39m] = (df_age[\u001b[33m'\u001b[39m\u001b[33mDAYS_EMPLOYED\u001b[39m\u001b[33m'\u001b[39m] / -\u001b[32m365\u001b[39m).astype(\u001b[38;5;28mint\u001b[39m)\n\u001b[32m----> \u001b[39m\u001b[32m3\u001b[39m \u001b[43mdf_age\u001b[49m\u001b[43m.\u001b[49m\u001b[43mdrop\u001b[49m\u001b[43m(\u001b[49m\u001b[43mcolumns\u001b[49m\u001b[43m=\u001b[49m\u001b[33;43m'\u001b[39;49m\u001b[33;43mDAYS_BIRTH\u001b[39;49m\u001b[33;43m'\u001b[39;49m\u001b[43m)\u001b[49m\n\u001b[32m      4\u001b[39m df_age[\u001b[33m'\u001b[39m\u001b[33mAGE_BIN\u001b[39m\u001b[33m'\u001b[39m] = pd.cut(df_age[\u001b[33m'\u001b[39m\u001b[33mYEARS_BIRTH\u001b[39m\u001b[33m'\u001b[39m], bins=\u001b[38;5;28mrange\u001b[39m(df_age[\u001b[33m'\u001b[39m\u001b[33mYEARS_BIRTH\u001b[39m\u001b[33m'\u001b[39m].min(), df_age[\u001b[33m'\u001b[39m\u001b[33mYEARS_BIRTH\u001b[39m\u001b[33m'\u001b[39m].max(), \u001b[32m10\u001b[39m), right=\u001b[38;5;28;01mFalse\u001b[39;00m)\n\u001b[32m      5\u001b[39m df_age_count = df_age.groupby([\u001b[33m'\u001b[39m\u001b[33mAGE_BIN\u001b[39m\u001b[33m'\u001b[39m,\u001b[33m'\u001b[39m\u001b[33mTARGET\u001b[39m\u001b[33m'\u001b[39m])[\u001b[33m'\u001b[39m\u001b[33mTARGET\u001b[39m\u001b[33m'\u001b[39m].count().reset_index(name=\u001b[33m\"\u001b[39m\u001b[33mcount\u001b[39m\u001b[33m\"\u001b[39m)\n",
      "\u001b[36mFile \u001b[39m\u001b[32m~\\AppData\\Local\\Packages\\PythonSoftwareFoundation.Python.3.13_qbz5n2kfra8p0\\LocalCache\\local-packages\\Python313\\site-packages\\pandas\\core\\frame.py:5581\u001b[39m, in \u001b[36mDataFrame.drop\u001b[39m\u001b[34m(self, labels, axis, index, columns, level, inplace, errors)\u001b[39m\n\u001b[32m   5433\u001b[39m \u001b[38;5;28;01mdef\u001b[39;00m\u001b[38;5;250m \u001b[39m\u001b[34mdrop\u001b[39m(\n\u001b[32m   5434\u001b[39m     \u001b[38;5;28mself\u001b[39m,\n\u001b[32m   5435\u001b[39m     labels: IndexLabel | \u001b[38;5;28;01mNone\u001b[39;00m = \u001b[38;5;28;01mNone\u001b[39;00m,\n\u001b[32m   (...)\u001b[39m\u001b[32m   5442\u001b[39m     errors: IgnoreRaise = \u001b[33m\"\u001b[39m\u001b[33mraise\u001b[39m\u001b[33m\"\u001b[39m,\n\u001b[32m   5443\u001b[39m ) -> DataFrame | \u001b[38;5;28;01mNone\u001b[39;00m:\n\u001b[32m   5444\u001b[39m \u001b[38;5;250m    \u001b[39m\u001b[33;03m\"\"\"\u001b[39;00m\n\u001b[32m   5445\u001b[39m \u001b[33;03m    Drop specified labels from rows or columns.\u001b[39;00m\n\u001b[32m   5446\u001b[39m \n\u001b[32m   (...)\u001b[39m\u001b[32m   5579\u001b[39m \u001b[33;03m            weight  1.0     0.8\u001b[39;00m\n\u001b[32m   5580\u001b[39m \u001b[33;03m    \"\"\"\u001b[39;00m\n\u001b[32m-> \u001b[39m\u001b[32m5581\u001b[39m     \u001b[38;5;28;01mreturn\u001b[39;00m \u001b[38;5;28;43msuper\u001b[39;49m\u001b[43m(\u001b[49m\u001b[43m)\u001b[49m\u001b[43m.\u001b[49m\u001b[43mdrop\u001b[49m\u001b[43m(\u001b[49m\n\u001b[32m   5582\u001b[39m \u001b[43m        \u001b[49m\u001b[43mlabels\u001b[49m\u001b[43m=\u001b[49m\u001b[43mlabels\u001b[49m\u001b[43m,\u001b[49m\n\u001b[32m   5583\u001b[39m \u001b[43m        \u001b[49m\u001b[43maxis\u001b[49m\u001b[43m=\u001b[49m\u001b[43maxis\u001b[49m\u001b[43m,\u001b[49m\n\u001b[32m   5584\u001b[39m \u001b[43m        \u001b[49m\u001b[43mindex\u001b[49m\u001b[43m=\u001b[49m\u001b[43mindex\u001b[49m\u001b[43m,\u001b[49m\n\u001b[32m   5585\u001b[39m \u001b[43m        \u001b[49m\u001b[43mcolumns\u001b[49m\u001b[43m=\u001b[49m\u001b[43mcolumns\u001b[49m\u001b[43m,\u001b[49m\n\u001b[32m   5586\u001b[39m \u001b[43m        \u001b[49m\u001b[43mlevel\u001b[49m\u001b[43m=\u001b[49m\u001b[43mlevel\u001b[49m\u001b[43m,\u001b[49m\n\u001b[32m   5587\u001b[39m \u001b[43m        \u001b[49m\u001b[43minplace\u001b[49m\u001b[43m=\u001b[49m\u001b[43minplace\u001b[49m\u001b[43m,\u001b[49m\n\u001b[32m   5588\u001b[39m \u001b[43m        \u001b[49m\u001b[43merrors\u001b[49m\u001b[43m=\u001b[49m\u001b[43merrors\u001b[49m\u001b[43m,\u001b[49m\n\u001b[32m   5589\u001b[39m \u001b[43m    \u001b[49m\u001b[43m)\u001b[49m\n",
      "\u001b[36mFile \u001b[39m\u001b[32m~\\AppData\\Local\\Packages\\PythonSoftwareFoundation.Python.3.13_qbz5n2kfra8p0\\LocalCache\\local-packages\\Python313\\site-packages\\pandas\\core\\generic.py:4788\u001b[39m, in \u001b[36mNDFrame.drop\u001b[39m\u001b[34m(self, labels, axis, index, columns, level, inplace, errors)\u001b[39m\n\u001b[32m   4786\u001b[39m \u001b[38;5;28;01mfor\u001b[39;00m axis, labels \u001b[38;5;129;01min\u001b[39;00m axes.items():\n\u001b[32m   4787\u001b[39m     \u001b[38;5;28;01mif\u001b[39;00m labels \u001b[38;5;129;01mis\u001b[39;00m \u001b[38;5;129;01mnot\u001b[39;00m \u001b[38;5;28;01mNone\u001b[39;00m:\n\u001b[32m-> \u001b[39m\u001b[32m4788\u001b[39m         obj = \u001b[43mobj\u001b[49m\u001b[43m.\u001b[49m\u001b[43m_drop_axis\u001b[49m\u001b[43m(\u001b[49m\u001b[43mlabels\u001b[49m\u001b[43m,\u001b[49m\u001b[43m \u001b[49m\u001b[43maxis\u001b[49m\u001b[43m,\u001b[49m\u001b[43m \u001b[49m\u001b[43mlevel\u001b[49m\u001b[43m=\u001b[49m\u001b[43mlevel\u001b[49m\u001b[43m,\u001b[49m\u001b[43m \u001b[49m\u001b[43merrors\u001b[49m\u001b[43m=\u001b[49m\u001b[43merrors\u001b[49m\u001b[43m)\u001b[49m\n\u001b[32m   4790\u001b[39m \u001b[38;5;28;01mif\u001b[39;00m inplace:\n\u001b[32m   4791\u001b[39m     \u001b[38;5;28mself\u001b[39m._update_inplace(obj)\n",
      "\u001b[36mFile \u001b[39m\u001b[32m~\\AppData\\Local\\Packages\\PythonSoftwareFoundation.Python.3.13_qbz5n2kfra8p0\\LocalCache\\local-packages\\Python313\\site-packages\\pandas\\core\\generic.py:4830\u001b[39m, in \u001b[36mNDFrame._drop_axis\u001b[39m\u001b[34m(self, labels, axis, level, errors, only_slice)\u001b[39m\n\u001b[32m   4828\u001b[39m         new_axis = axis.drop(labels, level=level, errors=errors)\n\u001b[32m   4829\u001b[39m     \u001b[38;5;28;01melse\u001b[39;00m:\n\u001b[32m-> \u001b[39m\u001b[32m4830\u001b[39m         new_axis = \u001b[43maxis\u001b[49m\u001b[43m.\u001b[49m\u001b[43mdrop\u001b[49m\u001b[43m(\u001b[49m\u001b[43mlabels\u001b[49m\u001b[43m,\u001b[49m\u001b[43m \u001b[49m\u001b[43merrors\u001b[49m\u001b[43m=\u001b[49m\u001b[43merrors\u001b[49m\u001b[43m)\u001b[49m\n\u001b[32m   4831\u001b[39m     indexer = axis.get_indexer(new_axis)\n\u001b[32m   4833\u001b[39m \u001b[38;5;66;03m# Case for non-unique axis\u001b[39;00m\n\u001b[32m   4834\u001b[39m \u001b[38;5;28;01melse\u001b[39;00m:\n",
      "\u001b[36mFile \u001b[39m\u001b[32m~\\AppData\\Local\\Packages\\PythonSoftwareFoundation.Python.3.13_qbz5n2kfra8p0\\LocalCache\\local-packages\\Python313\\site-packages\\pandas\\core\\indexes\\base.py:7070\u001b[39m, in \u001b[36mIndex.drop\u001b[39m\u001b[34m(self, labels, errors)\u001b[39m\n\u001b[32m   7068\u001b[39m \u001b[38;5;28;01mif\u001b[39;00m mask.any():\n\u001b[32m   7069\u001b[39m     \u001b[38;5;28;01mif\u001b[39;00m errors != \u001b[33m\"\u001b[39m\u001b[33mignore\u001b[39m\u001b[33m\"\u001b[39m:\n\u001b[32m-> \u001b[39m\u001b[32m7070\u001b[39m         \u001b[38;5;28;01mraise\u001b[39;00m \u001b[38;5;167;01mKeyError\u001b[39;00m(\u001b[33mf\u001b[39m\u001b[33m\"\u001b[39m\u001b[38;5;132;01m{\u001b[39;00mlabels[mask].tolist()\u001b[38;5;132;01m}\u001b[39;00m\u001b[33m not found in axis\u001b[39m\u001b[33m\"\u001b[39m)\n\u001b[32m   7071\u001b[39m     indexer = indexer[~mask]\n\u001b[32m   7072\u001b[39m \u001b[38;5;28;01mreturn\u001b[39;00m \u001b[38;5;28mself\u001b[39m.delete(indexer)\n",
      "\u001b[31mKeyError\u001b[39m: \"['DAYS_BIRTH'] not found in axis\""
     ]
    }
   ],
   "source": [
    "df_age = df[['DAYS_EMPLOYED','TARGET']].copy()\n",
    "df_age['YEARS_BIRTH'] = (df_age['DAYS_EMPLOYED'] / -365).astype(int)\n",
    "df_age.drop(columns='DAYS_BIRTH')\n",
    "df_age['AGE_BIN'] = pd.cut(df_age['YEARS_BIRTH'], bins=range(df_age['YEARS_BIRTH'].min(), df_age['YEARS_BIRTH'].max(), 10), right=False)\n",
    "df_age_count = df_age.groupby(['AGE_BIN','TARGET'])['TARGET'].count().reset_index(name=\"count\")\n",
    "#df_age_count = df_age.groupby(['YEARS_BIRTH','TARGET'])['TARGET'].count().reset_index(name=\"count\")\n",
    "\n",
    "# Hacemos el barplot\n",
    "plt.figure(figsize=(8,6))\n",
    "sns.barplot(\n",
    "    data=df_age_count,\n",
    "    x=\"AGE_BIN\",\n",
    "    y=\"count\",\n",
    "    hue=\"TARGET\",\n",
    ")\n",
    "plt.title(\"Conteo de clientes por Edad y Fraude\")\n",
    "plt.ylabel(\"Cantidad\")\n",
    "plt.xlabel(\"Edad (años)\")\n",
    "plt.legend(title='Fraude', loc='upper right')\n",
    "plt.show()"
   ]
  },
  {
   "cell_type": "code",
   "execution_count": null,
   "id": "c2123c1a",
   "metadata": {},
   "outputs": [
    {
     "data": {
      "text/plain": [
       "<Axes: xlabel='TARGET', ylabel='AMT_CREDIT'>"
      ]
     },
     "execution_count": 5,
     "metadata": {},
     "output_type": "execute_result"
    },
    {
     "data": {
      "image/png": "[encoded data removed]",
      "text/plain": [
       "<Figure size 640x480 with 1 Axes>"
      ]
     },
     "metadata": {},
     "output_type": "display_data"
    }
   ],
   "source": [
    "sns.boxplot(data=df, x = 'TARGET',y='AMT_CREDIT',hue='TARGET')"
   ]
  },
  {
   "cell_type": "code",
   "execution_count": null,
   "id": "6cff23e9",
   "metadata": {},
   "outputs": [
    {
     "data": {
      "text/plain": [
       "[117000000.0, 18000090.0, 13500000.0, 9000000.0, 6750000.0]"
      ]
     },
     "execution_count": 6,
     "metadata": {},
     "output_type": "execute_result"
    }
   ],
   "source": [
    "sorted(df['AMT_INCOME_TOTAL'].unique(),reverse=True)[:5]"
   ]
  },
  {
   "cell_type": "code",
   "execution_count": null,
   "id": "5277ef61",
   "metadata": {},
   "outputs": [
    {
     "data": {
      "image/png": "[encoded data removed]",
      "text/plain": [
       "<Figure size 640x480 with 1 Axes>"
      ]
     },
     "metadata": {},
     "output_type": "display_data"
    }
   ],
   "source": [
    "df_filtered = df[df['AMT_INCOME_TOTAL'] < df['AMT_INCOME_TOTAL'].max()]\n",
    "sns.histplot(data=df_filtered, x='AMT_INCOME_TOTAL', bins = 50,kde=True,hue='TARGET')\n",
    "plt.show()"
   ]
  },
  {
   "cell_type": "code",
   "execution_count": 13,
   "id": "a09ec8e1",
   "metadata": {},
   "outputs": [
    {
     "data": {
      "image/png": "[encoded data removed]",
      "text/plain": [
       "<Figure size 1100x1100 with 2 Axes>"
      ]
     },
     "metadata": {},
     "output_type": "display_data"
    }
   ],
   "source": [
    "plt.figure(figsize = (11,11))\n",
    "corr = df_processed.corr()\n",
    "mask = np.triu(np.ones_like(corr, dtype=bool))\n",
    "sns.heatmap(corr, mask = mask, robust = True, center = 0,square = True, cmap=\"viridis\",linewidths = .6)\n",
    "plt.title('Correlation Table')\n",
    "plt.show()"
   ]
  },
  {
   "cell_type": "code",
   "execution_count": 18,
   "id": "941aa2d2",
   "metadata": {},
   "outputs": [
    {
     "data": {
      "application/vnd.microsoft.datawrangler.viewer.v0+json": {
       "columns": [
        {
         "name": "index",
         "rawType": "object",
         "type": "string"
        },
        {
         "name": "TARGET",
         "rawType": "float64",
         "type": "float"
        }
       ],
       "ref": "d2b5e591-1b5b-4101-aa75-0cde138bffbd",
       "rows": [
        [
         "OCCUPATION_TYPE_Laborers",
         "0.04301895495530864"
        ],
        [
         "FLAG_DOCUMENT_3",
         "0.04434634685114456"
        ],
        [
         "REG_CITY_NOT_LIVE_CITY",
         "0.04439537480570062"
        ],
        [
         "DAYS_EMPLOYED",
         "0.04493166265773726"
        ],
        [
         "FLAG_EMP_PHONE",
         "0.04598221971659271"
        ],
        [
         "NAME_INCOME_TYPE_Pensioner",
         "0.046209422786619665"
        ],
        [
         "NAME_EDUCATION_TYPE_Secondary / secondary special",
         "0.04982373084813404"
        ],
        [
         "REG_CITY_NOT_WORK_CITY",
         "0.05099446436812659"
        ],
        [
         "DAYS_ID_PUBLISH",
         "0.05145717260705862"
        ],
        [
         "CODE_GENDER_F",
         "0.05470405317880808"
        ],
        [
         "CODE_GENDER_M",
         "0.05471268197127202"
        ],
        [
         "DAYS_LAST_PHONE_CHANGE",
         "0.055218475628851155"
        ],
        [
         "NAME_EDUCATION_TYPE_Higher education",
         "0.05659264414096518"
        ],
        [
         "NAME_INCOME_TYPE_Working",
         "0.05748118481836675"
        ],
        [
         "REGION_RATING_CLIENT",
         "0.058899014945712716"
        ],
        [
         "REGION_RATING_CLIENT_W_CITY",
         "0.060892667564823685"
        ],
        [
         "DAYS_BIRTH",
         "0.0782393083098287"
        ],
        [
         "EXT_SOURCE_1",
         "0.09915249764943852"
        ],
        [
         "EXT_SOURCE_3",
         "0.15739659264729475"
        ],
        [
         "EXT_SOURCE_2",
         "0.1603031524968387"
        ]
       ],
       "shape": {
        "columns": 1,
        "rows": 20
       }
      },
      "text/plain": [
       "OCCUPATION_TYPE_Laborers                             0.043019\n",
       "FLAG_DOCUMENT_3                                      0.044346\n",
       "REG_CITY_NOT_LIVE_CITY                               0.044395\n",
       "DAYS_EMPLOYED                                        0.044932\n",
       "FLAG_EMP_PHONE                                       0.045982\n",
       "NAME_INCOME_TYPE_Pensioner                           0.046209\n",
       "NAME_EDUCATION_TYPE_Secondary / secondary special    0.049824\n",
       "REG_CITY_NOT_WORK_CITY                               0.050994\n",
       "DAYS_ID_PUBLISH                                      0.051457\n",
       "CODE_GENDER_F                                        0.054704\n",
       "CODE_GENDER_M                                        0.054713\n",
       "DAYS_LAST_PHONE_CHANGE                               0.055218\n",
       "NAME_EDUCATION_TYPE_Higher education                 0.056593\n",
       "NAME_INCOME_TYPE_Working                             0.057481\n",
       "REGION_RATING_CLIENT                                 0.058899\n",
       "REGION_RATING_CLIENT_W_CITY                          0.060893\n",
       "DAYS_BIRTH                                           0.078239\n",
       "EXT_SOURCE_1                                         0.099152\n",
       "EXT_SOURCE_3                                         0.157397\n",
       "EXT_SOURCE_2                                         0.160303\n",
       "Name: TARGET, dtype: float64"
      ]
     },
     "execution_count": 18,
     "metadata": {},
     "output_type": "execute_result"
    }
   ],
   "source": [
    "df_processed.corr()['TARGET'][:-1].abs().sort_values().tail(20)"
   ]
  },
  {
   "cell_type": "code",
   "execution_count": 19,
   "id": "da6963a6",
   "metadata": {},
   "outputs": [
    {
     "data": {
      "image/png": "[encoded data removed]",
      "text/plain": [
       "<Figure size 700x400 with 1 Axes>"
      ]
     },
     "metadata": {},
     "output_type": "display_data"
    }
   ],
   "source": [
    "plt.figure(figsize=(7,4))\n",
    "d = df_processed.corr()['TARGET'][:-1].abs().sort_values().tail(20).plot(kind='bar', title='Highly correlated features with Fraud')"
   ]
  }
 ],
 "metadata": {
  "kernelspec": {
   "display_name": "Python 3",
   "language": "python",
   "name": "python3"
  },
  "language_info": {
   "codemirror_mode": {
    "name": "ipython",
    "version": 3
   },
   "file_extension": ".py",
   "mimetype": "text/x-python",
   "name": "python",
   "nbconvert_exporter": "python",
   "pygments_lexer": "ipython3",
   "version": "3.13.7"
  }
 },
 "nbformat": 4,
 "nbformat_minor": 5
}
