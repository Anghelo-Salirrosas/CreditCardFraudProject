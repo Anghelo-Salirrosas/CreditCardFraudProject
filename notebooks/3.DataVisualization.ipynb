{
 "cells": [
  {
   "cell_type": "code",
   "execution_count": 1,
   "id": "959a6a79",
   "metadata": {},
   "outputs": [],
   "source": [
    "import pandas as pd\n",
    "import numpy as np\n",
    "import matplotlib.pyplot as plt\n",
    "import seaborn as sns"
   ]
  },
  {
   "cell_type": "code",
   "execution_count": 15,
   "id": "94733df5",
   "metadata": {},
   "outputs": [
    {
     "data": {
      "application/vnd.microsoft.datawrangler.viewer.v0+json": {
       "columns": [
        {
         "name": "index",
         "rawType": "int64",
         "type": "integer"
        },
        {
         "name": "AMT_ANNUITY",
         "rawType": "float64",
         "type": "float"
        },
        {
         "name": "AMT_CREDIT",
         "rawType": "float64",
         "type": "float"
        },
        {
         "name": "AMT_GOODS_PRICE",
         "rawType": "float64",
         "type": "float"
        },
        {
         "name": "AMT_INCOME_TOTAL",
         "rawType": "float64",
         "type": "float"
        },
        {
         "name": "AMT_REQ_CREDIT_BUREAU_DAY",
         "rawType": "float64",
         "type": "float"
        },
        {
         "name": "AMT_REQ_CREDIT_BUREAU_HOUR",
         "rawType": "float64",
         "type": "float"
        },
        {
         "name": "AMT_REQ_CREDIT_BUREAU_MON",
         "rawType": "float64",
         "type": "float"
        },
        {
         "name": "AMT_REQ_CREDIT_BUREAU_QRT",
         "rawType": "float64",
         "type": "float"
        },
        {
         "name": "AMT_REQ_CREDIT_BUREAU_WEEK",
         "rawType": "float64",
         "type": "float"
        },
        {
         "name": "AMT_REQ_CREDIT_BUREAU_YEAR",
         "rawType": "float64",
         "type": "float"
        },
        {
         "name": "CNT_CHILDREN",
         "rawType": "int64",
         "type": "integer"
        },
        {
         "name": "CNT_FAM_MEMBERS",
         "rawType": "float64",
         "type": "float"
        },
        {
         "name": "CODE_GENDER",
         "rawType": "object",
         "type": "string"
        },
        {
         "name": "DAYS_BIRTH",
         "rawType": "int64",
         "type": "integer"
        },
        {
         "name": "DAYS_EMPLOYED",
         "rawType": "int64",
         "type": "integer"
        },
        {
         "name": "DAYS_ID_PUBLISH",
         "rawType": "int64",
         "type": "integer"
        },
        {
         "name": "DAYS_LAST_PHONE_CHANGE",
         "rawType": "float64",
         "type": "float"
        },
        {
         "name": "DAYS_REGISTRATION",
         "rawType": "float64",
         "type": "float"
        },
        {
         "name": "DEF_30_CNT_SOCIAL_CIRCLE",
         "rawType": "float64",
         "type": "float"
        },
        {
         "name": "DEF_60_CNT_SOCIAL_CIRCLE",
         "rawType": "float64",
         "type": "float"
        },
        {
         "name": "EMERGENCYSTATE_MODE",
         "rawType": "object",
         "type": "string"
        },
        {
         "name": "EXT_SOURCE_1",
         "rawType": "float64",
         "type": "float"
        },
        {
         "name": "EXT_SOURCE_2",
         "rawType": "float64",
         "type": "float"
        },
        {
         "name": "EXT_SOURCE_3",
         "rawType": "float64",
         "type": "float"
        },
        {
         "name": "FLAG_CONT_MOBILE",
         "rawType": "int64",
         "type": "integer"
        },
        {
         "name": "FLAG_DOCUMENT_10",
         "rawType": "int64",
         "type": "integer"
        },
        {
         "name": "FLAG_DOCUMENT_11",
         "rawType": "int64",
         "type": "integer"
        },
        {
         "name": "FLAG_DOCUMENT_12",
         "rawType": "int64",
         "type": "integer"
        },
        {
         "name": "FLAG_DOCUMENT_13",
         "rawType": "int64",
         "type": "integer"
        },
        {
         "name": "FLAG_DOCUMENT_14",
         "rawType": "int64",
         "type": "integer"
        },
        {
         "name": "FLAG_DOCUMENT_15",
         "rawType": "int64",
         "type": "integer"
        },
        {
         "name": "FLAG_DOCUMENT_16",
         "rawType": "int64",
         "type": "integer"
        },
        {
         "name": "FLAG_DOCUMENT_17",
         "rawType": "int64",
         "type": "integer"
        },
        {
         "name": "FLAG_DOCUMENT_18",
         "rawType": "int64",
         "type": "integer"
        },
        {
         "name": "FLAG_DOCUMENT_19",
         "rawType": "int64",
         "type": "integer"
        },
        {
         "name": "FLAG_DOCUMENT_2",
         "rawType": "int64",
         "type": "integer"
        },
        {
         "name": "FLAG_DOCUMENT_20",
         "rawType": "int64",
         "type": "integer"
        },
        {
         "name": "FLAG_DOCUMENT_21",
         "rawType": "int64",
         "type": "integer"
        },
        {
         "name": "FLAG_DOCUMENT_3",
         "rawType": "int64",
         "type": "integer"
        },
        {
         "name": "FLAG_DOCUMENT_4",
         "rawType": "int64",
         "type": "integer"
        },
        {
         "name": "FLAG_DOCUMENT_5",
         "rawType": "int64",
         "type": "integer"
        },
        {
         "name": "FLAG_DOCUMENT_6",
         "rawType": "int64",
         "type": "integer"
        },
        {
         "name": "FLAG_DOCUMENT_7",
         "rawType": "int64",
         "type": "integer"
        },
        {
         "name": "FLAG_DOCUMENT_8",
         "rawType": "int64",
         "type": "integer"
        },
        {
         "name": "FLAG_DOCUMENT_9",
         "rawType": "int64",
         "type": "integer"
        },
        {
         "name": "FLAG_EMAIL",
         "rawType": "int64",
         "type": "integer"
        },
        {
         "name": "FLAG_EMP_PHONE",
         "rawType": "int64",
         "type": "integer"
        },
        {
         "name": "FLAG_MOBIL",
         "rawType": "int64",
         "type": "integer"
        },
        {
         "name": "FLAG_OWN_CAR",
         "rawType": "object",
         "type": "string"
        },
        {
         "name": "FLAG_OWN_REALTY",
         "rawType": "object",
         "type": "string"
        },
        {
         "name": "FLAG_PHONE",
         "rawType": "int64",
         "type": "integer"
        },
        {
         "name": "FLAG_WORK_PHONE",
         "rawType": "int64",
         "type": "integer"
        },
        {
         "name": "HOUR_APPR_PROCESS_START",
         "rawType": "int64",
         "type": "integer"
        },
        {
         "name": "LIVE_CITY_NOT_WORK_CITY",
         "rawType": "int64",
         "type": "integer"
        },
        {
         "name": "LIVE_REGION_NOT_WORK_REGION",
         "rawType": "int64",
         "type": "integer"
        },
        {
         "name": "NAME_CONTRACT_TYPE",
         "rawType": "object",
         "type": "string"
        },
        {
         "name": "NAME_EDUCATION_TYPE",
         "rawType": "object",
         "type": "string"
        },
        {
         "name": "NAME_FAMILY_STATUS",
         "rawType": "object",
         "type": "string"
        },
        {
         "name": "NAME_HOUSING_TYPE",
         "rawType": "object",
         "type": "string"
        },
        {
         "name": "NAME_INCOME_TYPE",
         "rawType": "object",
         "type": "string"
        },
        {
         "name": "NAME_TYPE_SUITE",
         "rawType": "object",
         "type": "string"
        },
        {
         "name": "OBS_30_CNT_SOCIAL_CIRCLE",
         "rawType": "float64",
         "type": "float"
        },
        {
         "name": "OBS_60_CNT_SOCIAL_CIRCLE",
         "rawType": "float64",
         "type": "float"
        },
        {
         "name": "OCCUPATION_TYPE",
         "rawType": "object",
         "type": "string"
        },
        {
         "name": "REGION_POPULATION_RELATIVE",
         "rawType": "float64",
         "type": "float"
        },
        {
         "name": "REGION_RATING_CLIENT",
         "rawType": "int64",
         "type": "integer"
        },
        {
         "name": "REGION_RATING_CLIENT_W_CITY",
         "rawType": "int64",
         "type": "integer"
        },
        {
         "name": "REG_CITY_NOT_LIVE_CITY",
         "rawType": "int64",
         "type": "integer"
        },
        {
         "name": "REG_CITY_NOT_WORK_CITY",
         "rawType": "int64",
         "type": "integer"
        },
        {
         "name": "REG_REGION_NOT_LIVE_REGION",
         "rawType": "int64",
         "type": "integer"
        },
        {
         "name": "REG_REGION_NOT_WORK_REGION",
         "rawType": "int64",
         "type": "integer"
        },
        {
         "name": "TARGET",
         "rawType": "int64",
         "type": "integer"
        },
        {
         "name": "WEEKDAY_APPR_PROCESS_START",
         "rawType": "object",
         "type": "string"
        }
       ],
       "ref": "0ff9ce4e-ab3e-493f-bf4b-c76c3a83fbd9",
       "rows": [
        [
         "0",
         "24700.5",
         "406597.5",
         "351000.0",
         "202500.0",
         "0.0",
         "0.0",
         "0.0",
         "0.0",
         "0.0",
         "1.0",
         "0",
         "1.0",
         "M",
         "-9461",
         "-637",
         "-2120",
         "-1134.0",
         "-3648.0",
         "2.0",
         "2.0",
         "No",
         "0.0830369673913225",
         "0.2629485927471776",
         "0.1393757800997895",
         "1",
         "0",
         "0",
         "0",
         "0",
         "0",
         "0",
         "0",
         "0",
         "0",
         "0",
         "0",
         "0",
         "0",
         "1",
         "0",
         "0",
         "0",
         "0",
         "0",
         "0",
         "0",
         "1",
         "1",
         "N",
         "Y",
         "1",
         "0",
         "10",
         "0",
         "0",
         "Cash loans",
         "Secondary / secondary special",
         "Single / not married",
         "House / apartment",
         "Working",
         "Unaccompanied",
         "2.0",
         "2.0",
         "Laborers",
         "0.018801",
         "2",
         "2",
         "0",
         "0",
         "0",
         "0",
         "1",
         "WEDNESDAY"
        ],
        [
         "1",
         "35698.5",
         "1293502.5",
         "1129500.0",
         "270000.0",
         "0.0",
         "0.0",
         "0.0",
         "0.0",
         "0.0",
         "0.0",
         "0",
         "2.0",
         "F",
         "-16765",
         "-1188",
         "-291",
         "-828.0",
         "-1186.0",
         "0.0",
         "0.0",
         "No",
         "0.3112673113812225",
         "0.6222457752555098",
         "0.5108529061799658",
         "1",
         "0",
         "0",
         "0",
         "0",
         "0",
         "0",
         "0",
         "0",
         "0",
         "0",
         "0",
         "0",
         "0",
         "1",
         "0",
         "0",
         "0",
         "0",
         "0",
         "0",
         "0",
         "1",
         "1",
         "N",
         "N",
         "1",
         "0",
         "11",
         "0",
         "0",
         "Cash loans",
         "Higher education",
         "Married",
         "House / apartment",
         "State servant",
         "Family",
         "1.0",
         "1.0",
         "Core staff",
         "0.0035409999999999",
         "1",
         "1",
         "0",
         "0",
         "0",
         "0",
         "0",
         "MONDAY"
        ],
        [
         "2",
         "6750.0",
         "135000.0",
         "135000.0",
         "67500.0",
         "0.0",
         "0.0",
         "0.0",
         "0.0",
         "0.0",
         "0.0",
         "0",
         "1.0",
         "M",
         "-19046",
         "-225",
         "-2531",
         "-815.0",
         "-4260.0",
         "0.0",
         "0.0",
         "No",
         "0.5021298056566625",
         "0.5559120833904428",
         "0.7295666907060153",
         "1",
         "0",
         "0",
         "0",
         "0",
         "0",
         "0",
         "0",
         "0",
         "0",
         "0",
         "0",
         "0",
         "0",
         "0",
         "0",
         "0",
         "0",
         "0",
         "0",
         "0",
         "0",
         "1",
         "1",
         "Y",
         "Y",
         "1",
         "1",
         "9",
         "0",
         "0",
         "Revolving loans",
         "Secondary / secondary special",
         "Single / not married",
         "House / apartment",
         "Working",
         "Unaccompanied",
         "0.0",
         "0.0",
         "Laborers",
         "0.010032",
         "2",
         "2",
         "0",
         "0",
         "0",
         "0",
         "0",
         "MONDAY"
        ],
        [
         "3",
         "29686.5",
         "312682.5",
         "297000.0",
         "135000.0",
         "0.0",
         "0.0",
         "0.0",
         "0.0",
         "0.0",
         "0.0",
         "0",
         "2.0",
         "F",
         "-19005",
         "-3039",
         "-2437",
         "-617.0",
         "-9833.0",
         "0.0",
         "0.0",
         "No",
         "0.5021298056566625",
         "0.6504416904014653",
         "0.5108529061799658",
         "1",
         "0",
         "0",
         "0",
         "0",
         "0",
         "0",
         "0",
         "0",
         "0",
         "0",
         "0",
         "0",
         "0",
         "1",
         "0",
         "0",
         "0",
         "0",
         "0",
         "0",
         "0",
         "1",
         "1",
         "N",
         "Y",
         "0",
         "0",
         "17",
         "0",
         "0",
         "Cash loans",
         "Secondary / secondary special",
         "Civil marriage",
         "House / apartment",
         "Working",
         "Unaccompanied",
         "2.0",
         "2.0",
         "Laborers",
         "0.008019",
         "2",
         "2",
         "0",
         "0",
         "0",
         "0",
         "0",
         "WEDNESDAY"
        ],
        [
         "4",
         "21865.5",
         "513000.0",
         "513000.0",
         "121500.0",
         "0.0",
         "0.0",
         "0.0",
         "0.0",
         "0.0",
         "0.0",
         "0",
         "1.0",
         "M",
         "-19932",
         "-3038",
         "-3458",
         "-1106.0",
         "-4311.0",
         "0.0",
         "0.0",
         "No",
         "0.5021298056566625",
         "0.3227382869704046",
         "0.5108529061799658",
         "1",
         "0",
         "0",
         "0",
         "0",
         "0",
         "0",
         "0",
         "0",
         "0",
         "0",
         "0",
         "0",
         "0",
         "0",
         "0",
         "0",
         "0",
         "0",
         "1",
         "0",
         "0",
         "1",
         "1",
         "N",
         "Y",
         "0",
         "0",
         "11",
         "1",
         "0",
         "Cash loans",
         "Secondary / secondary special",
         "Single / not married",
         "House / apartment",
         "Working",
         "Unaccompanied",
         "0.0",
         "0.0",
         "Core staff",
         "0.028663",
         "2",
         "2",
         "0",
         "1",
         "0",
         "0",
         "0",
         "THURSDAY"
        ]
       ],
       "shape": {
        "columns": 73,
        "rows": 5
       }
      },
      "text/html": [
       "<div>\n",
       "<style scoped>\n",
       "    .dataframe tbody tr th:only-of-type {\n",
       "        vertical-align: middle;\n",
       "    }\n",
       "\n",
       "    .dataframe tbody tr th {\n",
       "        vertical-align: top;\n",
       "    }\n",
       "\n",
       "    .dataframe thead th {\n",
       "        text-align: right;\n",
       "    }\n",
       "</style>\n",
       "<table border=\"1\" class=\"dataframe\">\n",
       "  <thead>\n",
       "    <tr style=\"text-align: right;\">\n",
       "      <th></th>\n",
       "      <th>AMT_ANNUITY</th>\n",
       "      <th>AMT_CREDIT</th>\n",
       "      <th>AMT_GOODS_PRICE</th>\n",
       "      <th>AMT_INCOME_TOTAL</th>\n",
       "      <th>AMT_REQ_CREDIT_BUREAU_DAY</th>\n",
       "      <th>AMT_REQ_CREDIT_BUREAU_HOUR</th>\n",
       "      <th>AMT_REQ_CREDIT_BUREAU_MON</th>\n",
       "      <th>AMT_REQ_CREDIT_BUREAU_QRT</th>\n",
       "      <th>AMT_REQ_CREDIT_BUREAU_WEEK</th>\n",
       "      <th>AMT_REQ_CREDIT_BUREAU_YEAR</th>\n",
       "      <th>...</th>\n",
       "      <th>OCCUPATION_TYPE</th>\n",
       "      <th>REGION_POPULATION_RELATIVE</th>\n",
       "      <th>REGION_RATING_CLIENT</th>\n",
       "      <th>REGION_RATING_CLIENT_W_CITY</th>\n",
       "      <th>REG_CITY_NOT_LIVE_CITY</th>\n",
       "      <th>REG_CITY_NOT_WORK_CITY</th>\n",
       "      <th>REG_REGION_NOT_LIVE_REGION</th>\n",
       "      <th>REG_REGION_NOT_WORK_REGION</th>\n",
       "      <th>TARGET</th>\n",
       "      <th>WEEKDAY_APPR_PROCESS_START</th>\n",
       "    </tr>\n",
       "  </thead>\n",
       "  <tbody>\n",
       "    <tr>\n",
       "      <th>0</th>\n",
       "      <td>24700.5</td>\n",
       "      <td>406597.5</td>\n",
       "      <td>351000.0</td>\n",
       "      <td>202500.0</td>\n",
       "      <td>0.0</td>\n",
       "      <td>0.0</td>\n",
       "      <td>0.0</td>\n",
       "      <td>0.0</td>\n",
       "      <td>0.0</td>\n",
       "      <td>1.0</td>\n",
       "      <td>...</td>\n",
       "      <td>Laborers</td>\n",
       "      <td>0.018801</td>\n",
       "      <td>2</td>\n",
       "      <td>2</td>\n",
       "      <td>0</td>\n",
       "      <td>0</td>\n",
       "      <td>0</td>\n",
       "      <td>0</td>\n",
       "      <td>1</td>\n",
       "      <td>WEDNESDAY</td>\n",
       "    </tr>\n",
       "    <tr>\n",
       "      <th>1</th>\n",
       "      <td>35698.5</td>\n",
       "      <td>1293502.5</td>\n",
       "      <td>1129500.0</td>\n",
       "      <td>270000.0</td>\n",
       "      <td>0.0</td>\n",
       "      <td>0.0</td>\n",
       "      <td>0.0</td>\n",
       "      <td>0.0</td>\n",
       "      <td>0.0</td>\n",
       "      <td>0.0</td>\n",
       "      <td>...</td>\n",
       "      <td>Core staff</td>\n",
       "      <td>0.003541</td>\n",
       "      <td>1</td>\n",
       "      <td>1</td>\n",
       "      <td>0</td>\n",
       "      <td>0</td>\n",
       "      <td>0</td>\n",
       "      <td>0</td>\n",
       "      <td>0</td>\n",
       "      <td>MONDAY</td>\n",
       "    </tr>\n",
       "    <tr>\n",
       "      <th>2</th>\n",
       "      <td>6750.0</td>\n",
       "      <td>135000.0</td>\n",
       "      <td>135000.0</td>\n",
       "      <td>67500.0</td>\n",
       "      <td>0.0</td>\n",
       "      <td>0.0</td>\n",
       "      <td>0.0</td>\n",
       "      <td>0.0</td>\n",
       "      <td>0.0</td>\n",
       "      <td>0.0</td>\n",
       "      <td>...</td>\n",
       "      <td>Laborers</td>\n",
       "      <td>0.010032</td>\n",
       "      <td>2</td>\n",
       "      <td>2</td>\n",
       "      <td>0</td>\n",
       "      <td>0</td>\n",
       "      <td>0</td>\n",
       "      <td>0</td>\n",
       "      <td>0</td>\n",
       "      <td>MONDAY</td>\n",
       "    </tr>\n",
       "    <tr>\n",
       "      <th>3</th>\n",
       "      <td>29686.5</td>\n",
       "      <td>312682.5</td>\n",
       "      <td>297000.0</td>\n",
       "      <td>135000.0</td>\n",
       "      <td>0.0</td>\n",
       "      <td>0.0</td>\n",
       "      <td>0.0</td>\n",
       "      <td>0.0</td>\n",
       "      <td>0.0</td>\n",
       "      <td>0.0</td>\n",
       "      <td>...</td>\n",
       "      <td>Laborers</td>\n",
       "      <td>0.008019</td>\n",
       "      <td>2</td>\n",
       "      <td>2</td>\n",
       "      <td>0</td>\n",
       "      <td>0</td>\n",
       "      <td>0</td>\n",
       "      <td>0</td>\n",
       "      <td>0</td>\n",
       "      <td>WEDNESDAY</td>\n",
       "    </tr>\n",
       "    <tr>\n",
       "      <th>4</th>\n",
       "      <td>21865.5</td>\n",
       "      <td>513000.0</td>\n",
       "      <td>513000.0</td>\n",
       "      <td>121500.0</td>\n",
       "      <td>0.0</td>\n",
       "      <td>0.0</td>\n",
       "      <td>0.0</td>\n",
       "      <td>0.0</td>\n",
       "      <td>0.0</td>\n",
       "      <td>0.0</td>\n",
       "      <td>...</td>\n",
       "      <td>Core staff</td>\n",
       "      <td>0.028663</td>\n",
       "      <td>2</td>\n",
       "      <td>2</td>\n",
       "      <td>0</td>\n",
       "      <td>1</td>\n",
       "      <td>0</td>\n",
       "      <td>0</td>\n",
       "      <td>0</td>\n",
       "      <td>THURSDAY</td>\n",
       "    </tr>\n",
       "  </tbody>\n",
       "</table>\n",
       "<p>5 rows × 73 columns</p>\n",
       "</div>"
      ],
      "text/plain": [
       "   AMT_ANNUITY  AMT_CREDIT  AMT_GOODS_PRICE  AMT_INCOME_TOTAL  \\\n",
       "0      24700.5    406597.5         351000.0          202500.0   \n",
       "1      35698.5   1293502.5        1129500.0          270000.0   \n",
       "2       6750.0    135000.0         135000.0           67500.0   \n",
       "3      29686.5    312682.5         297000.0          135000.0   \n",
       "4      21865.5    513000.0         513000.0          121500.0   \n",
       "\n",
       "   AMT_REQ_CREDIT_BUREAU_DAY  AMT_REQ_CREDIT_BUREAU_HOUR  \\\n",
       "0                        0.0                         0.0   \n",
       "1                        0.0                         0.0   \n",
       "2                        0.0                         0.0   \n",
       "3                        0.0                         0.0   \n",
       "4                        0.0                         0.0   \n",
       "\n",
       "   AMT_REQ_CREDIT_BUREAU_MON  AMT_REQ_CREDIT_BUREAU_QRT  \\\n",
       "0                        0.0                        0.0   \n",
       "1                        0.0                        0.0   \n",
       "2                        0.0                        0.0   \n",
       "3                        0.0                        0.0   \n",
       "4                        0.0                        0.0   \n",
       "\n",
       "   AMT_REQ_CREDIT_BUREAU_WEEK  AMT_REQ_CREDIT_BUREAU_YEAR  ...  \\\n",
       "0                         0.0                         1.0  ...   \n",
       "1                         0.0                         0.0  ...   \n",
       "2                         0.0                         0.0  ...   \n",
       "3                         0.0                         0.0  ...   \n",
       "4                         0.0                         0.0  ...   \n",
       "\n",
       "   OCCUPATION_TYPE  REGION_POPULATION_RELATIVE REGION_RATING_CLIENT  \\\n",
       "0         Laborers                    0.018801                    2   \n",
       "1       Core staff                    0.003541                    1   \n",
       "2         Laborers                    0.010032                    2   \n",
       "3         Laborers                    0.008019                    2   \n",
       "4       Core staff                    0.028663                    2   \n",
       "\n",
       "   REGION_RATING_CLIENT_W_CITY  REG_CITY_NOT_LIVE_CITY  \\\n",
       "0                            2                       0   \n",
       "1                            1                       0   \n",
       "2                            2                       0   \n",
       "3                            2                       0   \n",
       "4                            2                       0   \n",
       "\n",
       "   REG_CITY_NOT_WORK_CITY  REG_REGION_NOT_LIVE_REGION  \\\n",
       "0                       0                           0   \n",
       "1                       0                           0   \n",
       "2                       0                           0   \n",
       "3                       0                           0   \n",
       "4                       1                           0   \n",
       "\n",
       "   REG_REGION_NOT_WORK_REGION  TARGET  WEEKDAY_APPR_PROCESS_START  \n",
       "0                           0       1                   WEDNESDAY  \n",
       "1                           0       0                      MONDAY  \n",
       "2                           0       0                      MONDAY  \n",
       "3                           0       0                   WEDNESDAY  \n",
       "4                           0       0                    THURSDAY  \n",
       "\n",
       "[5 rows x 73 columns]"
      ]
     },
     "execution_count": 15,
     "metadata": {},
     "output_type": "execute_result"
    }
   ],
   "source": [
    "df = pd.read_csv('../application_data/cleaned_data_before_transform.csv')\n",
    "df.head()"
   ]
  },
  {
   "cell_type": "code",
   "execution_count": 3,
   "id": "f50582f4",
   "metadata": {},
   "outputs": [
    {
     "data": {
      "image/png": "[encoded data removed]",
      "text/plain": [
       "<Figure size 800x600 with 1 Axes>"
      ]
     },
     "metadata": {},
     "output_type": "display_data"
    }
   ],
   "source": [
    "df_gender = df.groupby([\"CODE_GENDER\", \"TARGET\"])[\"TARGET\"].count().reset_index(name=\"count\")\n",
    "\n",
    "# Hacemos el barplot\n",
    "plt.figure(figsize=(8,6))\n",
    "sns.barplot(\n",
    "    data=df_gender,\n",
    "    x=\"CODE_GENDER\",\n",
    "    y=\"count\",\n",
    "    hue=\"TARGET\"   \n",
    ")\n",
    "plt.title(\"Conteo de clientes por Género y Fraude\")\n",
    "plt.ylabel(\"Cantidad\")\n",
    "plt.xlabel(\"Género\")\n",
    "plt.legend(title='Fraude', loc='upper right')\n",
    "plt.show()"
   ]
  },
  {
   "cell_type": "code",
   "execution_count": 4,
   "id": "fe368b74",
   "metadata": {},
   "outputs": [
    {
     "name": "stderr",
     "output_type": "stream",
     "text": [
      "C:\\Users\\ASUS ROG\\AppData\\Local\\Temp\\ipykernel_18796\\4278961448.py:5: FutureWarning: The default of observed=False is deprecated and will be changed to True in a future version of pandas. Pass observed=False to retain current behavior or observed=True to adopt the future default and silence this warning.\n",
      "  df_age_count = df_age.groupby(['AGE_BIN','TARGET'])['TARGET'].count().reset_index(name=\"count\")\n"
     ]
    },
    {
     "data": {
      "image/png": "[encoded data removed]",
      "text/plain": [
       "<Figure size 800x600 with 1 Axes>"
      ]
     },
     "metadata": {},
     "output_type": "display_data"
    }
   ],
   "source": [
    "df_age = df[['DAYS_BIRTH','TARGET']].copy()\n",
    "df_age['YEARS_BIRTH'] = (df_age['DAYS_BIRTH'] / -365).astype(int)\n",
    "df_age.drop(columns='DAYS_BIRTH')\n",
    "df_age['AGE_BIN'] = pd.cut(df_age['YEARS_BIRTH'], bins=range(df_age['YEARS_BIRTH'].min(), df_age['YEARS_BIRTH'].max(), 10), right=False)\n",
    "df_age_count = df_age.groupby(['AGE_BIN','TARGET'])['TARGET'].count().reset_index(name=\"count\")\n",
    "#df_age_count = df_age.groupby(['YEARS_BIRTH','TARGET'])['TARGET'].count().reset_index(name=\"count\")\n",
    "\n",
    "# Hacemos el barplot\n",
    "plt.figure(figsize=(8,6))\n",
    "sns.barplot(\n",
    "    data=df_age_count,\n",
    "    x=\"AGE_BIN\",\n",
    "    y=\"count\",\n",
    "    hue=\"TARGET\",\n",
    ")\n",
    "plt.title(\"Conteo de clientes por Edad y Fraude\")\n",
    "plt.ylabel(\"Cantidad\")\n",
    "plt.xlabel(\"Edad (años)\")\n",
    "plt.legend(title='Fraude', loc='upper right')\n",
    "plt.show()"
   ]
  },
  {
   "cell_type": "code",
   "execution_count": 12,
   "id": "a637c10a",
   "metadata": {},
   "outputs": [
    {
     "data": {
      "text/plain": [
       "<Axes: xlabel='DAYS_EMPLOYED'>"
      ]
     },
     "execution_count": 12,
     "metadata": {},
     "output_type": "execute_result"
    },
    {
     "data": {
      "image/png": "[encoded data removed]",
      "text/plain": [
       "<Figure size 640x480 with 1 Axes>"
      ]
     },
     "metadata": {},
     "output_type": "display_data"
    }
   ],
   "source": [
    "sns.boxplot(data=df, x='DAYS_EMPLOYED')\n"
   ]
  },
  {
   "cell_type": "code",
   "execution_count": null,
   "id": "18ee90d4",
   "metadata": {},
   "outputs": [],
   "source": [
    "df_age = df[['DAYS_EMPLOYED','TARGET']].copy()\n",
    "df_age['YEARS_BIRTH'] = (df_age['DAYS_EMPLOYED'] / -365).astype(int)\n",
    "df_age.drop(columns='DAYS_BIRTH')\n",
    "df_age['AGE_BIN'] = pd.cut(df_age['YEARS_BIRTH'], bins=range(df_age['YEARS_BIRTH'].min(), df_age['YEARS_BIRTH'].max(), 10), right=False)\n",
    "df_age_count = df_age.groupby(['AGE_BIN','TARGET'])['TARGET'].count().reset_index(name=\"count\")\n",
    "#df_age_count = df_age.groupby(['YEARS_BIRTH','TARGET'])['TARGET'].count().reset_index(name=\"count\")\n",
    "\n",
    "# Hacemos el barplot\n",
    "plt.figure(figsize=(8,6))\n",
    "sns.barplot(\n",
    "    data=df_age_count,\n",
    "    x=\"AGE_BIN\",\n",
    "    y=\"count\",\n",
    "    hue=\"TARGET\",\n",
    ")\n",
    "plt.title(\"Conteo de clientes por Edad y Fraude\")\n",
    "plt.ylabel(\"Cantidad\")\n",
    "plt.xlabel(\"Edad (años)\")\n",
    "plt.legend(title='Fraude', loc='upper right')\n",
    "plt.show()"
   ]
  },
  {
   "cell_type": "code",
   "execution_count": 5,
   "id": "c2123c1a",
   "metadata": {},
   "outputs": [
    {
     "data": {
      "text/plain": [
       "<Axes: xlabel='TARGET', ylabel='AMT_CREDIT'>"
      ]
     },
     "execution_count": 5,
     "metadata": {},
     "output_type": "execute_result"
    },
    {
     "data": {
      "image/png": "[encoded data removed]",
      "text/plain": [
       "<Figure size 640x480 with 1 Axes>"
      ]
     },
     "metadata": {},
     "output_type": "display_data"
    }
   ],
   "source": [
    "sns.boxplot(data=df, x = 'TARGET',y='AMT_CREDIT',hue='TARGET')"
   ]
  },
  {
   "cell_type": "code",
   "execution_count": 6,
   "id": "6cff23e9",
   "metadata": {},
   "outputs": [
    {
     "data": {
      "text/plain": [
       "[117000000.0, 18000090.0, 13500000.0, 9000000.0, 6750000.0]"
      ]
     },
     "execution_count": 6,
     "metadata": {},
     "output_type": "execute_result"
    }
   ],
   "source": [
    "sorted(df['AMT_INCOME_TOTAL'].unique(),reverse=True)[:5]"
   ]
  },
  {
   "cell_type": "code",
   "execution_count": 7,
   "id": "5277ef61",
   "metadata": {},
   "outputs": [
    {
     "data": {
      "image/png": "[encoded data removed]",
      "text/plain": [
       "<Figure size 640x480 with 1 Axes>"
      ]
     },
     "metadata": {},
     "output_type": "display_data"
    }
   ],
   "source": [
    "df_filtered = df[df['AMT_INCOME_TOTAL'] < df['AMT_INCOME_TOTAL'].max()]\n",
    "sns.histplot(data=df_filtered, x='AMT_INCOME_TOTAL', bins = 50,kde=True,hue='TARGET')\n",
    "plt.show()"
   ]
  },
  {
   "cell_type": "code",
   "execution_count": null,
   "id": "a09ec8e1",
   "metadata": {},
   "outputs": [],
   "source": []
  }
 ],
 "metadata": {
  "kernelspec": {
   "display_name": "Python 3",
   "language": "python",
   "name": "python3"
  },
  "language_info": {
   "codemirror_mode": {
    "name": "ipython",
    "version": 3
   },
   "file_extension": ".py",
   "mimetype": "text/x-python",
   "name": "python",
   "nbconvert_exporter": "python",
   "pygments_lexer": "ipython3",
   "version": "3.13.7"
  }
 },
 "nbformat": 4,
 "nbformat_minor": 5
}
